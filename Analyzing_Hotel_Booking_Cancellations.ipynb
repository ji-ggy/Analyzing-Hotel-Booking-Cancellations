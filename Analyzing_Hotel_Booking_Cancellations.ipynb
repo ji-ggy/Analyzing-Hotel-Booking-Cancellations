{
  "nbformat": 4,
  "nbformat_minor": 0,
  "metadata": {
    "colab": {
      "provenance": []
    },
    "kernelspec": {
      "name": "python3",
      "display_name": "Python 3"
    },
    "language_info": {
      "name": "python"
    }
  },
  "cells": [
    {
      "cell_type": "markdown",
      "source": [
        "# Analyzing Hotel Booking Cancellations\n",
        "\n"
      ],
      "metadata": {
        "id": "NDHFF-V21ihu"
      }
    },
    {
      "cell_type": "markdown",
      "source": [
        "## Business Context\n",
        "\n",
        "As a Data Analyst of a company owning a city hotel in a metropolitan area and a resort hotel located near a coastline both within the United States, you've been assigned by your manager to provide insights on the recent rise of hotel booking cancellations in both hotels for the past few months. These events causes the management to suffer financial losses and they would like to know some leads on reasons why customers cancel their room reservations."
      ],
      "metadata": {
        "id": "4AOYM2Qp3nmF"
      }
    },
    {
      "cell_type": "markdown",
      "source": [
        "## Dataset\n",
        "\n",
        "You've been given a dataset containing a list of bookings recorded in the booking system. Each row consist a booking made for a particular date and it also contains details containing the following:\n",
        "\n",
        "| Column Name                    | Description                                                                 |\n",
        "|--------------------------------|-----------------------------------------------------------------------------|\n",
        "| hotel                          | The type of hotel the booking was made                                      |\n",
        "| lead_time                      | The time (in hours) between the booking date and the expected arrival date  |\n",
        "| arrival_date_year              | The year of guest's expected arrival                                        |\n",
        "| arrival_date_month             | The month of guest's expected arrival                                       |\n",
        "| arrival_date_day_of_month      | The day of the month of guests's expected arrival                           |\n",
        "| adults                         | Describes how many guests in the booking are adults                         |\n",
        "| children                       | Describes how many guests in the booking are children                       |\n",
        "| babies                         | Describes how many guests in the booking are babies                         |\n",
        "| meal                           | A category that describes what type of meal ordered by the guest |\n",
        "| country                        | Country of Origin (in ISO 3166 Alpha-3 code format)                         |\n",
        "| is_repeated_guest              | Describes whether or not the guest have booked before                       |\n",
        "| previous_cancellations         | Describes the number of previous cancellations by the guest                 |\n",
        "| previous_bookings_not_canceled | Describes the number of previous non-canceled bookings by the guest         |\n",
        "| reserved_room_type             | A category that describes what room type the guest reserved                 |\n",
        "| assigned_room_type             | A category that describes what room type the guest received                 |\n",
        "| booking_changes                | The number of changes the customer did on the booking                       |\n",
        "| deposit_type                   | The type of payment deposit used by the guest                               |\n",
        "| days_in_waiting_list           | Describes the number of days the guest was in the waiting list              |\n",
        "| customer_type                  | Describes the type of guest in the booking                                  |\n",
        "| adr                            | The potential \"Average Daily Revenue\" of the booking                        |\n",
        "| car_parking_spaces             | The number of car parking spaces requested by the guest                     |\n",
        "| special_requests               | The number of special requests given by the guest                           |\n",
        "| status                         | The updated status of the booking                                           |\n",
        "| status_last_update             | The date of the status registered to the booking system                     |"
      ],
      "metadata": {
        "id": "uJzBxe7r4tjh"
      }
    },
    {
      "cell_type": "markdown",
      "source": [
        "## Importing Python Libraries\n",
        "\n",
        "For me to analyze the given data, we first have to import the necessary Python libraries."
      ],
      "metadata": {
        "id": "45PJd-Tb26Uv"
      }
    },
    {
      "cell_type": "markdown",
      "source": [
        "### Task 1: Import the following python libraries to be used for this task\n",
        "\n"
      ],
      "metadata": {
        "id": "FBxWNX4nGZEJ"
      }
    },
    {
      "cell_type": "code",
      "source": [
        "\n",
        "import pandas as pd\n",
        "import matplotlib.pyplot as plt\n",
        "import seaborn as sns\n",
        "%matplotlib inline\n"
      ],
      "metadata": {
        "id": "RuYFhW8K3m6T"
      },
      "execution_count": null,
      "outputs": []
    },
    {
      "cell_type": "markdown",
      "source": [
        "### Task 2: Load the `.csv` file into a pandas dataframe and store it in a variable named `data`.\n",
        "\n"
      ],
      "metadata": {
        "id": "Sfzm_FbxIf06"
      }
    },
    {
      "cell_type": "code",
      "source": [
        "from google.colab import drive\n",
        "drive.mount('/content/drive')"
      ],
      "metadata": {
        "id": "5dTZ2IYfIQ73",
        "colab": {
          "base_uri": "https://localhost:8080/"
        },
        "outputId": "59078bfc-7048-4d01-c959-4cdf7f8eceeb"
      },
      "execution_count": null,
      "outputs": [
        {
          "output_type": "stream",
          "name": "stdout",
          "text": [
            "Mounted at /content/drive\n"
          ]
        }
      ]
    },
    {
      "cell_type": "markdown",
      "source": [
        "After mounting the drive and uploading the dataset on it, I can import the given dataset."
      ],
      "metadata": {
        "id": "nyejReARJ08e"
      }
    },
    {
      "cell_type": "code",
      "execution_count": null,
      "metadata": {
        "id": "wWPm56ydvjYh"
      },
      "outputs": [],
      "source": [
        "\n",
        "df = pd.read_csv('/content/drive/MyDrive/HOME ASSIGNMENT/Home Assignment 5.10/drive-download-20230511T041442Z-001/hotel_bookings_data.csv')\n"
      ]
    },
    {
      "cell_type": "code",
      "source": [
        "\n",
        "df.head()"
      ],
      "metadata": {
        "id": "6olzBC9mLlvk",
        "colab": {
          "base_uri": "https://localhost:8080/",
          "height": 386
        },
        "outputId": "b02809a7-68d7-43a6-ef48-5d9a2cf9b5b6"
      },
      "execution_count": null,
      "outputs": [
        {
          "output_type": "execute_result",
          "data": {
            "text/plain": [
              "          hotel  lead_time  arrival_date_year arrival_date_month  \\\n",
              "0  Resort Hotel        342               2015               July   \n",
              "1  Resort Hotel        737               2015               July   \n",
              "2  Resort Hotel          7               2015               July   \n",
              "3  Resort Hotel         13               2015               July   \n",
              "4  Resort Hotel         14               2015               July   \n",
              "\n",
              "   arrival_date_day_of_month  adults  children  babies meal country  ...  \\\n",
              "0                          1       2       0.0       0   BB     PRT  ...   \n",
              "1                          1       2       0.0       0   BB     PRT  ...   \n",
              "2                          1       1       0.0       0   BB     GBR  ...   \n",
              "3                          1       1       0.0       0   BB     GBR  ...   \n",
              "4                          1       2       0.0       0   BB     GBR  ...   \n",
              "\n",
              "   assigned_room_type  booking_changes  deposit_type days_in_waiting_list  \\\n",
              "0                   C                3    No Deposit                    0   \n",
              "1                   C                4    No Deposit                    0   \n",
              "2                   C                0    No Deposit                    0   \n",
              "3                   A                0    No Deposit                    0   \n",
              "4                   A                0    No Deposit                    0   \n",
              "\n",
              "  customer_type   adr car_parking_spaces  special_requests     status  \\\n",
              "0     Transient   0.0                  0                 0  Check-Out   \n",
              "1     Transient   0.0                  0                 0  Check-Out   \n",
              "2     Transient  75.0                  0                 0  Check-Out   \n",
              "3     Transient  75.0                  0                 0  Check-Out   \n",
              "4     Transient  98.0                  0                 1  Check-Out   \n",
              "\n",
              "   status_last_update  \n",
              "0            7/1/2015  \n",
              "1            7/1/2015  \n",
              "2            7/2/2015  \n",
              "3            7/2/2015  \n",
              "4            7/3/2015  \n",
              "\n",
              "[5 rows x 24 columns]"
            ],
            "text/html": [
              "\n",
              "  <div id=\"df-e4a605a9-2f43-4f22-98cc-af317af7effc\">\n",
              "    <div class=\"colab-df-container\">\n",
              "      <div>\n",
              "<style scoped>\n",
              "    .dataframe tbody tr th:only-of-type {\n",
              "        vertical-align: middle;\n",
              "    }\n",
              "\n",
              "    .dataframe tbody tr th {\n",
              "        vertical-align: top;\n",
              "    }\n",
              "\n",
              "    .dataframe thead th {\n",
              "        text-align: right;\n",
              "    }\n",
              "</style>\n",
              "<table border=\"1\" class=\"dataframe\">\n",
              "  <thead>\n",
              "    <tr style=\"text-align: right;\">\n",
              "      <th></th>\n",
              "      <th>hotel</th>\n",
              "      <th>lead_time</th>\n",
              "      <th>arrival_date_year</th>\n",
              "      <th>arrival_date_month</th>\n",
              "      <th>arrival_date_day_of_month</th>\n",
              "      <th>adults</th>\n",
              "      <th>children</th>\n",
              "      <th>babies</th>\n",
              "      <th>meal</th>\n",
              "      <th>country</th>\n",
              "      <th>...</th>\n",
              "      <th>assigned_room_type</th>\n",
              "      <th>booking_changes</th>\n",
              "      <th>deposit_type</th>\n",
              "      <th>days_in_waiting_list</th>\n",
              "      <th>customer_type</th>\n",
              "      <th>adr</th>\n",
              "      <th>car_parking_spaces</th>\n",
              "      <th>special_requests</th>\n",
              "      <th>status</th>\n",
              "      <th>status_last_update</th>\n",
              "    </tr>\n",
              "  </thead>\n",
              "  <tbody>\n",
              "    <tr>\n",
              "      <th>0</th>\n",
              "      <td>Resort Hotel</td>\n",
              "      <td>342</td>\n",
              "      <td>2015</td>\n",
              "      <td>July</td>\n",
              "      <td>1</td>\n",
              "      <td>2</td>\n",
              "      <td>0.0</td>\n",
              "      <td>0</td>\n",
              "      <td>BB</td>\n",
              "      <td>PRT</td>\n",
              "      <td>...</td>\n",
              "      <td>C</td>\n",
              "      <td>3</td>\n",
              "      <td>No Deposit</td>\n",
              "      <td>0</td>\n",
              "      <td>Transient</td>\n",
              "      <td>0.0</td>\n",
              "      <td>0</td>\n",
              "      <td>0</td>\n",
              "      <td>Check-Out</td>\n",
              "      <td>7/1/2015</td>\n",
              "    </tr>\n",
              "    <tr>\n",
              "      <th>1</th>\n",
              "      <td>Resort Hotel</td>\n",
              "      <td>737</td>\n",
              "      <td>2015</td>\n",
              "      <td>July</td>\n",
              "      <td>1</td>\n",
              "      <td>2</td>\n",
              "      <td>0.0</td>\n",
              "      <td>0</td>\n",
              "      <td>BB</td>\n",
              "      <td>PRT</td>\n",
              "      <td>...</td>\n",
              "      <td>C</td>\n",
              "      <td>4</td>\n",
              "      <td>No Deposit</td>\n",
              "      <td>0</td>\n",
              "      <td>Transient</td>\n",
              "      <td>0.0</td>\n",
              "      <td>0</td>\n",
              "      <td>0</td>\n",
              "      <td>Check-Out</td>\n",
              "      <td>7/1/2015</td>\n",
              "    </tr>\n",
              "    <tr>\n",
              "      <th>2</th>\n",
              "      <td>Resort Hotel</td>\n",
              "      <td>7</td>\n",
              "      <td>2015</td>\n",
              "      <td>July</td>\n",
              "      <td>1</td>\n",
              "      <td>1</td>\n",
              "      <td>0.0</td>\n",
              "      <td>0</td>\n",
              "      <td>BB</td>\n",
              "      <td>GBR</td>\n",
              "      <td>...</td>\n",
              "      <td>C</td>\n",
              "      <td>0</td>\n",
              "      <td>No Deposit</td>\n",
              "      <td>0</td>\n",
              "      <td>Transient</td>\n",
              "      <td>75.0</td>\n",
              "      <td>0</td>\n",
              "      <td>0</td>\n",
              "      <td>Check-Out</td>\n",
              "      <td>7/2/2015</td>\n",
              "    </tr>\n",
              "    <tr>\n",
              "      <th>3</th>\n",
              "      <td>Resort Hotel</td>\n",
              "      <td>13</td>\n",
              "      <td>2015</td>\n",
              "      <td>July</td>\n",
              "      <td>1</td>\n",
              "      <td>1</td>\n",
              "      <td>0.0</td>\n",
              "      <td>0</td>\n",
              "      <td>BB</td>\n",
              "      <td>GBR</td>\n",
              "      <td>...</td>\n",
              "      <td>A</td>\n",
              "      <td>0</td>\n",
              "      <td>No Deposit</td>\n",
              "      <td>0</td>\n",
              "      <td>Transient</td>\n",
              "      <td>75.0</td>\n",
              "      <td>0</td>\n",
              "      <td>0</td>\n",
              "      <td>Check-Out</td>\n",
              "      <td>7/2/2015</td>\n",
              "    </tr>\n",
              "    <tr>\n",
              "      <th>4</th>\n",
              "      <td>Resort Hotel</td>\n",
              "      <td>14</td>\n",
              "      <td>2015</td>\n",
              "      <td>July</td>\n",
              "      <td>1</td>\n",
              "      <td>2</td>\n",
              "      <td>0.0</td>\n",
              "      <td>0</td>\n",
              "      <td>BB</td>\n",
              "      <td>GBR</td>\n",
              "      <td>...</td>\n",
              "      <td>A</td>\n",
              "      <td>0</td>\n",
              "      <td>No Deposit</td>\n",
              "      <td>0</td>\n",
              "      <td>Transient</td>\n",
              "      <td>98.0</td>\n",
              "      <td>0</td>\n",
              "      <td>1</td>\n",
              "      <td>Check-Out</td>\n",
              "      <td>7/3/2015</td>\n",
              "    </tr>\n",
              "  </tbody>\n",
              "</table>\n",
              "<p>5 rows × 24 columns</p>\n",
              "</div>\n",
              "      <button class=\"colab-df-convert\" onclick=\"convertToInteractive('df-e4a605a9-2f43-4f22-98cc-af317af7effc')\"\n",
              "              title=\"Convert this dataframe to an interactive table.\"\n",
              "              style=\"display:none;\">\n",
              "        \n",
              "  <svg xmlns=\"http://www.w3.org/2000/svg\" height=\"24px\"viewBox=\"0 0 24 24\"\n",
              "       width=\"24px\">\n",
              "    <path d=\"M0 0h24v24H0V0z\" fill=\"none\"/>\n",
              "    <path d=\"M18.56 5.44l.94 2.06.94-2.06 2.06-.94-2.06-.94-.94-2.06-.94 2.06-2.06.94zm-11 1L8.5 8.5l.94-2.06 2.06-.94-2.06-.94L8.5 2.5l-.94 2.06-2.06.94zm10 10l.94 2.06.94-2.06 2.06-.94-2.06-.94-.94-2.06-.94 2.06-2.06.94z\"/><path d=\"M17.41 7.96l-1.37-1.37c-.4-.4-.92-.59-1.43-.59-.52 0-1.04.2-1.43.59L10.3 9.45l-7.72 7.72c-.78.78-.78 2.05 0 2.83L4 21.41c.39.39.9.59 1.41.59.51 0 1.02-.2 1.41-.59l7.78-7.78 2.81-2.81c.8-.78.8-2.07 0-2.86zM5.41 20L4 18.59l7.72-7.72 1.47 1.35L5.41 20z\"/>\n",
              "  </svg>\n",
              "      </button>\n",
              "      \n",
              "  <style>\n",
              "    .colab-df-container {\n",
              "      display:flex;\n",
              "      flex-wrap:wrap;\n",
              "      gap: 12px;\n",
              "    }\n",
              "\n",
              "    .colab-df-convert {\n",
              "      background-color: #E8F0FE;\n",
              "      border: none;\n",
              "      border-radius: 50%;\n",
              "      cursor: pointer;\n",
              "      display: none;\n",
              "      fill: #1967D2;\n",
              "      height: 32px;\n",
              "      padding: 0 0 0 0;\n",
              "      width: 32px;\n",
              "    }\n",
              "\n",
              "    .colab-df-convert:hover {\n",
              "      background-color: #E2EBFA;\n",
              "      box-shadow: 0px 1px 2px rgba(60, 64, 67, 0.3), 0px 1px 3px 1px rgba(60, 64, 67, 0.15);\n",
              "      fill: #174EA6;\n",
              "    }\n",
              "\n",
              "    [theme=dark] .colab-df-convert {\n",
              "      background-color: #3B4455;\n",
              "      fill: #D2E3FC;\n",
              "    }\n",
              "\n",
              "    [theme=dark] .colab-df-convert:hover {\n",
              "      background-color: #434B5C;\n",
              "      box-shadow: 0px 1px 3px 1px rgba(0, 0, 0, 0.15);\n",
              "      filter: drop-shadow(0px 1px 2px rgba(0, 0, 0, 0.3));\n",
              "      fill: #FFFFFF;\n",
              "    }\n",
              "  </style>\n",
              "\n",
              "      <script>\n",
              "        const buttonEl =\n",
              "          document.querySelector('#df-e4a605a9-2f43-4f22-98cc-af317af7effc button.colab-df-convert');\n",
              "        buttonEl.style.display =\n",
              "          google.colab.kernel.accessAllowed ? 'block' : 'none';\n",
              "\n",
              "        async function convertToInteractive(key) {\n",
              "          const element = document.querySelector('#df-e4a605a9-2f43-4f22-98cc-af317af7effc');\n",
              "          const dataTable =\n",
              "            await google.colab.kernel.invokeFunction('convertToInteractive',\n",
              "                                                     [key], {});\n",
              "          if (!dataTable) return;\n",
              "\n",
              "          const docLinkHtml = 'Like what you see? Visit the ' +\n",
              "            '<a target=\"_blank\" href=https://colab.research.google.com/notebooks/data_table.ipynb>data table notebook</a>'\n",
              "            + ' to learn more about interactive tables.';\n",
              "          element.innerHTML = '';\n",
              "          dataTable['output_type'] = 'display_data';\n",
              "          await google.colab.output.renderOutput(dataTable, element);\n",
              "          const docLink = document.createElement('div');\n",
              "          docLink.innerHTML = docLinkHtml;\n",
              "          element.appendChild(docLink);\n",
              "        }\n",
              "      </script>\n",
              "    </div>\n",
              "  </div>\n",
              "  "
            ]
          },
          "metadata": {},
          "execution_count": 4
        }
      ]
    },
    {
      "cell_type": "code",
      "source": [
        "\n",
        "df.info()"
      ],
      "metadata": {
        "id": "-TDk4BsIMaFN",
        "colab": {
          "base_uri": "https://localhost:8080/"
        },
        "outputId": "ea71fed6-51ee-4877-e051-d5a39740b7e2"
      },
      "execution_count": null,
      "outputs": [
        {
          "output_type": "stream",
          "name": "stdout",
          "text": [
            "<class 'pandas.core.frame.DataFrame'>\n",
            "RangeIndex: 119390 entries, 0 to 119389\n",
            "Data columns (total 24 columns):\n",
            " #   Column                          Non-Null Count   Dtype  \n",
            "---  ------                          --------------   -----  \n",
            " 0   hotel                           119390 non-null  object \n",
            " 1   lead_time                       119390 non-null  int64  \n",
            " 2   arrival_date_year               119390 non-null  int64  \n",
            " 3   arrival_date_month              119390 non-null  object \n",
            " 4   arrival_date_day_of_month       119390 non-null  int64  \n",
            " 5   adults                          119390 non-null  int64  \n",
            " 6   children                        119386 non-null  float64\n",
            " 7   babies                          119390 non-null  int64  \n",
            " 8   meal                            119390 non-null  object \n",
            " 9   country                         118902 non-null  object \n",
            " 10  is_repeated_guest               119390 non-null  int64  \n",
            " 11  previous_cancellations          119390 non-null  int64  \n",
            " 12  previous_bookings_not_canceled  119390 non-null  int64  \n",
            " 13  reserved_room_type              119390 non-null  object \n",
            " 14  assigned_room_type              119390 non-null  object \n",
            " 15  booking_changes                 119390 non-null  int64  \n",
            " 16  deposit_type                    119390 non-null  object \n",
            " 17  days_in_waiting_list            119390 non-null  int64  \n",
            " 18  customer_type                   119390 non-null  object \n",
            " 19  adr                             119390 non-null  float64\n",
            " 20  car_parking_spaces              119390 non-null  int64  \n",
            " 21  special_requests                119390 non-null  int64  \n",
            " 22  status                          119390 non-null  object \n",
            " 23  status_last_update              119390 non-null  object \n",
            "dtypes: float64(2), int64(12), object(10)\n",
            "memory usage: 21.9+ MB\n"
          ]
        }
      ]
    },
    {
      "cell_type": "markdown",
      "source": [
        "## Data Cleaning\n",
        "\n"
      ],
      "metadata": {
        "id": "AsQHN9Hi2PIT"
      }
    },
    {
      "cell_type": "markdown",
      "source": [
        "### Task 3: Remove all completely duplicated rows in the dataframe `data`\n",
        "\n"
      ],
      "metadata": {
        "id": "qOwWY8MSNDi3"
      }
    },
    {
      "cell_type": "markdown",
      "source": [
        "To start off, i can first check if there are any duplicates found in the dataset.\n"
      ],
      "metadata": {
        "id": "hs_ytDksPNyn"
      }
    },
    {
      "cell_type": "code",
      "source": [
        "\n",
        "df[df.duplicated()]"
      ],
      "metadata": {
        "id": "XP5xLdy5Ou0G",
        "colab": {
          "base_uri": "https://localhost:8080/",
          "height": 661
        },
        "outputId": "9d4a468b-16c4-438f-f8f5-22a3d1cf9018"
      },
      "execution_count": null,
      "outputs": [
        {
          "output_type": "execute_result",
          "data": {
            "text/plain": [
              "               hotel  lead_time  arrival_date_year arrival_date_month  \\\n",
              "5       Resort Hotel         14               2015               July   \n",
              "22      Resort Hotel         72               2015               July   \n",
              "43      Resort Hotel         70               2015               July   \n",
              "138     Resort Hotel          5               2015               July   \n",
              "200     Resort Hotel          0               2015               July   \n",
              "...              ...        ...                ...                ...   \n",
              "119349    City Hotel        186               2017             August   \n",
              "119352    City Hotel         63               2017             August   \n",
              "119353    City Hotel         63               2017             August   \n",
              "119354    City Hotel         63               2017             August   \n",
              "119373    City Hotel        175               2017             August   \n",
              "\n",
              "        arrival_date_day_of_month  adults  children  babies meal country  ...  \\\n",
              "5                               1       2       0.0       0   BB     GBR  ...   \n",
              "22                              1       2       0.0       0   BB     PRT  ...   \n",
              "43                              2       2       0.0       0   HB     ROU  ...   \n",
              "138                             5       2       0.0       0   BB     PRT  ...   \n",
              "200                             7       1       0.0       0   BB     GBR  ...   \n",
              "...                           ...     ...       ...     ...  ...     ...  ...   \n",
              "119349                         31       2       0.0       0   BB     DEU  ...   \n",
              "119352                         31       3       0.0       0   BB     SWE  ...   \n",
              "119353                         31       3       0.0       0   BB     SWE  ...   \n",
              "119354                         31       3       0.0       0   BB     SWE  ...   \n",
              "119373                         31       1       0.0       0   BB     NLD  ...   \n",
              "\n",
              "        assigned_room_type  booking_changes  deposit_type  \\\n",
              "5                        A                0    No Deposit   \n",
              "22                       A                1    No Deposit   \n",
              "43                       E                0    No Deposit   \n",
              "138                      D                0    No Deposit   \n",
              "200                      A                0    No Deposit   \n",
              "...                    ...              ...           ...   \n",
              "119349                   D                0    No Deposit   \n",
              "119352                   D                0    No Deposit   \n",
              "119353                   D                0    No Deposit   \n",
              "119354                   D                0    No Deposit   \n",
              "119373                   A                0    No Deposit   \n",
              "\n",
              "       days_in_waiting_list    customer_type     adr car_parking_spaces  \\\n",
              "5                         0        Transient   98.00                  0   \n",
              "22                        0        Transient   84.67                  0   \n",
              "43                        0        Transient  137.00                  0   \n",
              "138                       0        Transient   97.00                  0   \n",
              "200                       0        Transient  109.80                  0   \n",
              "...                     ...              ...     ...                ...   \n",
              "119349                    0        Transient  126.00                  0   \n",
              "119352                    0  Transient-Party  195.33                  0   \n",
              "119353                    0  Transient-Party  195.33                  0   \n",
              "119354                    0  Transient-Party  195.33                  0   \n",
              "119373                    0        Transient   82.35                  0   \n",
              "\n",
              "        special_requests     status  status_last_update  \n",
              "5                      1  Check-Out            7/3/2015  \n",
              "22                     1  Check-Out            7/7/2015  \n",
              "43                     1  Check-Out            7/7/2015  \n",
              "138                    0   Canceled            7/1/2015  \n",
              "200                    3  Check-Out            7/8/2015  \n",
              "...                  ...        ...                 ...  \n",
              "119349                 2  Check-Out            9/3/2017  \n",
              "119352                 2  Check-Out            9/3/2017  \n",
              "119353                 2  Check-Out            9/3/2017  \n",
              "119354                 2  Check-Out            9/3/2017  \n",
              "119373                 1  Check-Out            9/4/2017  \n",
              "\n",
              "[32090 rows x 24 columns]"
            ],
            "text/html": [
              "\n",
              "  <div id=\"df-cb038ea9-ac6e-4e02-b5f1-f907b1c635c6\">\n",
              "    <div class=\"colab-df-container\">\n",
              "      <div>\n",
              "<style scoped>\n",
              "    .dataframe tbody tr th:only-of-type {\n",
              "        vertical-align: middle;\n",
              "    }\n",
              "\n",
              "    .dataframe tbody tr th {\n",
              "        vertical-align: top;\n",
              "    }\n",
              "\n",
              "    .dataframe thead th {\n",
              "        text-align: right;\n",
              "    }\n",
              "</style>\n",
              "<table border=\"1\" class=\"dataframe\">\n",
              "  <thead>\n",
              "    <tr style=\"text-align: right;\">\n",
              "      <th></th>\n",
              "      <th>hotel</th>\n",
              "      <th>lead_time</th>\n",
              "      <th>arrival_date_year</th>\n",
              "      <th>arrival_date_month</th>\n",
              "      <th>arrival_date_day_of_month</th>\n",
              "      <th>adults</th>\n",
              "      <th>children</th>\n",
              "      <th>babies</th>\n",
              "      <th>meal</th>\n",
              "      <th>country</th>\n",
              "      <th>...</th>\n",
              "      <th>assigned_room_type</th>\n",
              "      <th>booking_changes</th>\n",
              "      <th>deposit_type</th>\n",
              "      <th>days_in_waiting_list</th>\n",
              "      <th>customer_type</th>\n",
              "      <th>adr</th>\n",
              "      <th>car_parking_spaces</th>\n",
              "      <th>special_requests</th>\n",
              "      <th>status</th>\n",
              "      <th>status_last_update</th>\n",
              "    </tr>\n",
              "  </thead>\n",
              "  <tbody>\n",
              "    <tr>\n",
              "      <th>5</th>\n",
              "      <td>Resort Hotel</td>\n",
              "      <td>14</td>\n",
              "      <td>2015</td>\n",
              "      <td>July</td>\n",
              "      <td>1</td>\n",
              "      <td>2</td>\n",
              "      <td>0.0</td>\n",
              "      <td>0</td>\n",
              "      <td>BB</td>\n",
              "      <td>GBR</td>\n",
              "      <td>...</td>\n",
              "      <td>A</td>\n",
              "      <td>0</td>\n",
              "      <td>No Deposit</td>\n",
              "      <td>0</td>\n",
              "      <td>Transient</td>\n",
              "      <td>98.00</td>\n",
              "      <td>0</td>\n",
              "      <td>1</td>\n",
              "      <td>Check-Out</td>\n",
              "      <td>7/3/2015</td>\n",
              "    </tr>\n",
              "    <tr>\n",
              "      <th>22</th>\n",
              "      <td>Resort Hotel</td>\n",
              "      <td>72</td>\n",
              "      <td>2015</td>\n",
              "      <td>July</td>\n",
              "      <td>1</td>\n",
              "      <td>2</td>\n",
              "      <td>0.0</td>\n",
              "      <td>0</td>\n",
              "      <td>BB</td>\n",
              "      <td>PRT</td>\n",
              "      <td>...</td>\n",
              "      <td>A</td>\n",
              "      <td>1</td>\n",
              "      <td>No Deposit</td>\n",
              "      <td>0</td>\n",
              "      <td>Transient</td>\n",
              "      <td>84.67</td>\n",
              "      <td>0</td>\n",
              "      <td>1</td>\n",
              "      <td>Check-Out</td>\n",
              "      <td>7/7/2015</td>\n",
              "    </tr>\n",
              "    <tr>\n",
              "      <th>43</th>\n",
              "      <td>Resort Hotel</td>\n",
              "      <td>70</td>\n",
              "      <td>2015</td>\n",
              "      <td>July</td>\n",
              "      <td>2</td>\n",
              "      <td>2</td>\n",
              "      <td>0.0</td>\n",
              "      <td>0</td>\n",
              "      <td>HB</td>\n",
              "      <td>ROU</td>\n",
              "      <td>...</td>\n",
              "      <td>E</td>\n",
              "      <td>0</td>\n",
              "      <td>No Deposit</td>\n",
              "      <td>0</td>\n",
              "      <td>Transient</td>\n",
              "      <td>137.00</td>\n",
              "      <td>0</td>\n",
              "      <td>1</td>\n",
              "      <td>Check-Out</td>\n",
              "      <td>7/7/2015</td>\n",
              "    </tr>\n",
              "    <tr>\n",
              "      <th>138</th>\n",
              "      <td>Resort Hotel</td>\n",
              "      <td>5</td>\n",
              "      <td>2015</td>\n",
              "      <td>July</td>\n",
              "      <td>5</td>\n",
              "      <td>2</td>\n",
              "      <td>0.0</td>\n",
              "      <td>0</td>\n",
              "      <td>BB</td>\n",
              "      <td>PRT</td>\n",
              "      <td>...</td>\n",
              "      <td>D</td>\n",
              "      <td>0</td>\n",
              "      <td>No Deposit</td>\n",
              "      <td>0</td>\n",
              "      <td>Transient</td>\n",
              "      <td>97.00</td>\n",
              "      <td>0</td>\n",
              "      <td>0</td>\n",
              "      <td>Canceled</td>\n",
              "      <td>7/1/2015</td>\n",
              "    </tr>\n",
              "    <tr>\n",
              "      <th>200</th>\n",
              "      <td>Resort Hotel</td>\n",
              "      <td>0</td>\n",
              "      <td>2015</td>\n",
              "      <td>July</td>\n",
              "      <td>7</td>\n",
              "      <td>1</td>\n",
              "      <td>0.0</td>\n",
              "      <td>0</td>\n",
              "      <td>BB</td>\n",
              "      <td>GBR</td>\n",
              "      <td>...</td>\n",
              "      <td>A</td>\n",
              "      <td>0</td>\n",
              "      <td>No Deposit</td>\n",
              "      <td>0</td>\n",
              "      <td>Transient</td>\n",
              "      <td>109.80</td>\n",
              "      <td>0</td>\n",
              "      <td>3</td>\n",
              "      <td>Check-Out</td>\n",
              "      <td>7/8/2015</td>\n",
              "    </tr>\n",
              "    <tr>\n",
              "      <th>...</th>\n",
              "      <td>...</td>\n",
              "      <td>...</td>\n",
              "      <td>...</td>\n",
              "      <td>...</td>\n",
              "      <td>...</td>\n",
              "      <td>...</td>\n",
              "      <td>...</td>\n",
              "      <td>...</td>\n",
              "      <td>...</td>\n",
              "      <td>...</td>\n",
              "      <td>...</td>\n",
              "      <td>...</td>\n",
              "      <td>...</td>\n",
              "      <td>...</td>\n",
              "      <td>...</td>\n",
              "      <td>...</td>\n",
              "      <td>...</td>\n",
              "      <td>...</td>\n",
              "      <td>...</td>\n",
              "      <td>...</td>\n",
              "      <td>...</td>\n",
              "    </tr>\n",
              "    <tr>\n",
              "      <th>119349</th>\n",
              "      <td>City Hotel</td>\n",
              "      <td>186</td>\n",
              "      <td>2017</td>\n",
              "      <td>August</td>\n",
              "      <td>31</td>\n",
              "      <td>2</td>\n",
              "      <td>0.0</td>\n",
              "      <td>0</td>\n",
              "      <td>BB</td>\n",
              "      <td>DEU</td>\n",
              "      <td>...</td>\n",
              "      <td>D</td>\n",
              "      <td>0</td>\n",
              "      <td>No Deposit</td>\n",
              "      <td>0</td>\n",
              "      <td>Transient</td>\n",
              "      <td>126.00</td>\n",
              "      <td>0</td>\n",
              "      <td>2</td>\n",
              "      <td>Check-Out</td>\n",
              "      <td>9/3/2017</td>\n",
              "    </tr>\n",
              "    <tr>\n",
              "      <th>119352</th>\n",
              "      <td>City Hotel</td>\n",
              "      <td>63</td>\n",
              "      <td>2017</td>\n",
              "      <td>August</td>\n",
              "      <td>31</td>\n",
              "      <td>3</td>\n",
              "      <td>0.0</td>\n",
              "      <td>0</td>\n",
              "      <td>BB</td>\n",
              "      <td>SWE</td>\n",
              "      <td>...</td>\n",
              "      <td>D</td>\n",
              "      <td>0</td>\n",
              "      <td>No Deposit</td>\n",
              "      <td>0</td>\n",
              "      <td>Transient-Party</td>\n",
              "      <td>195.33</td>\n",
              "      <td>0</td>\n",
              "      <td>2</td>\n",
              "      <td>Check-Out</td>\n",
              "      <td>9/3/2017</td>\n",
              "    </tr>\n",
              "    <tr>\n",
              "      <th>119353</th>\n",
              "      <td>City Hotel</td>\n",
              "      <td>63</td>\n",
              "      <td>2017</td>\n",
              "      <td>August</td>\n",
              "      <td>31</td>\n",
              "      <td>3</td>\n",
              "      <td>0.0</td>\n",
              "      <td>0</td>\n",
              "      <td>BB</td>\n",
              "      <td>SWE</td>\n",
              "      <td>...</td>\n",
              "      <td>D</td>\n",
              "      <td>0</td>\n",
              "      <td>No Deposit</td>\n",
              "      <td>0</td>\n",
              "      <td>Transient-Party</td>\n",
              "      <td>195.33</td>\n",
              "      <td>0</td>\n",
              "      <td>2</td>\n",
              "      <td>Check-Out</td>\n",
              "      <td>9/3/2017</td>\n",
              "    </tr>\n",
              "    <tr>\n",
              "      <th>119354</th>\n",
              "      <td>City Hotel</td>\n",
              "      <td>63</td>\n",
              "      <td>2017</td>\n",
              "      <td>August</td>\n",
              "      <td>31</td>\n",
              "      <td>3</td>\n",
              "      <td>0.0</td>\n",
              "      <td>0</td>\n",
              "      <td>BB</td>\n",
              "      <td>SWE</td>\n",
              "      <td>...</td>\n",
              "      <td>D</td>\n",
              "      <td>0</td>\n",
              "      <td>No Deposit</td>\n",
              "      <td>0</td>\n",
              "      <td>Transient-Party</td>\n",
              "      <td>195.33</td>\n",
              "      <td>0</td>\n",
              "      <td>2</td>\n",
              "      <td>Check-Out</td>\n",
              "      <td>9/3/2017</td>\n",
              "    </tr>\n",
              "    <tr>\n",
              "      <th>119373</th>\n",
              "      <td>City Hotel</td>\n",
              "      <td>175</td>\n",
              "      <td>2017</td>\n",
              "      <td>August</td>\n",
              "      <td>31</td>\n",
              "      <td>1</td>\n",
              "      <td>0.0</td>\n",
              "      <td>0</td>\n",
              "      <td>BB</td>\n",
              "      <td>NLD</td>\n",
              "      <td>...</td>\n",
              "      <td>A</td>\n",
              "      <td>0</td>\n",
              "      <td>No Deposit</td>\n",
              "      <td>0</td>\n",
              "      <td>Transient</td>\n",
              "      <td>82.35</td>\n",
              "      <td>0</td>\n",
              "      <td>1</td>\n",
              "      <td>Check-Out</td>\n",
              "      <td>9/4/2017</td>\n",
              "    </tr>\n",
              "  </tbody>\n",
              "</table>\n",
              "<p>32090 rows × 24 columns</p>\n",
              "</div>\n",
              "      <button class=\"colab-df-convert\" onclick=\"convertToInteractive('df-cb038ea9-ac6e-4e02-b5f1-f907b1c635c6')\"\n",
              "              title=\"Convert this dataframe to an interactive table.\"\n",
              "              style=\"display:none;\">\n",
              "        \n",
              "  <svg xmlns=\"http://www.w3.org/2000/svg\" height=\"24px\"viewBox=\"0 0 24 24\"\n",
              "       width=\"24px\">\n",
              "    <path d=\"M0 0h24v24H0V0z\" fill=\"none\"/>\n",
              "    <path d=\"M18.56 5.44l.94 2.06.94-2.06 2.06-.94-2.06-.94-.94-2.06-.94 2.06-2.06.94zm-11 1L8.5 8.5l.94-2.06 2.06-.94-2.06-.94L8.5 2.5l-.94 2.06-2.06.94zm10 10l.94 2.06.94-2.06 2.06-.94-2.06-.94-.94-2.06-.94 2.06-2.06.94z\"/><path d=\"M17.41 7.96l-1.37-1.37c-.4-.4-.92-.59-1.43-.59-.52 0-1.04.2-1.43.59L10.3 9.45l-7.72 7.72c-.78.78-.78 2.05 0 2.83L4 21.41c.39.39.9.59 1.41.59.51 0 1.02-.2 1.41-.59l7.78-7.78 2.81-2.81c.8-.78.8-2.07 0-2.86zM5.41 20L4 18.59l7.72-7.72 1.47 1.35L5.41 20z\"/>\n",
              "  </svg>\n",
              "      </button>\n",
              "      \n",
              "  <style>\n",
              "    .colab-df-container {\n",
              "      display:flex;\n",
              "      flex-wrap:wrap;\n",
              "      gap: 12px;\n",
              "    }\n",
              "\n",
              "    .colab-df-convert {\n",
              "      background-color: #E8F0FE;\n",
              "      border: none;\n",
              "      border-radius: 50%;\n",
              "      cursor: pointer;\n",
              "      display: none;\n",
              "      fill: #1967D2;\n",
              "      height: 32px;\n",
              "      padding: 0 0 0 0;\n",
              "      width: 32px;\n",
              "    }\n",
              "\n",
              "    .colab-df-convert:hover {\n",
              "      background-color: #E2EBFA;\n",
              "      box-shadow: 0px 1px 2px rgba(60, 64, 67, 0.3), 0px 1px 3px 1px rgba(60, 64, 67, 0.15);\n",
              "      fill: #174EA6;\n",
              "    }\n",
              "\n",
              "    [theme=dark] .colab-df-convert {\n",
              "      background-color: #3B4455;\n",
              "      fill: #D2E3FC;\n",
              "    }\n",
              "\n",
              "    [theme=dark] .colab-df-convert:hover {\n",
              "      background-color: #434B5C;\n",
              "      box-shadow: 0px 1px 3px 1px rgba(0, 0, 0, 0.15);\n",
              "      filter: drop-shadow(0px 1px 2px rgba(0, 0, 0, 0.3));\n",
              "      fill: #FFFFFF;\n",
              "    }\n",
              "  </style>\n",
              "\n",
              "      <script>\n",
              "        const buttonEl =\n",
              "          document.querySelector('#df-cb038ea9-ac6e-4e02-b5f1-f907b1c635c6 button.colab-df-convert');\n",
              "        buttonEl.style.display =\n",
              "          google.colab.kernel.accessAllowed ? 'block' : 'none';\n",
              "\n",
              "        async function convertToInteractive(key) {\n",
              "          const element = document.querySelector('#df-cb038ea9-ac6e-4e02-b5f1-f907b1c635c6');\n",
              "          const dataTable =\n",
              "            await google.colab.kernel.invokeFunction('convertToInteractive',\n",
              "                                                     [key], {});\n",
              "          if (!dataTable) return;\n",
              "\n",
              "          const docLinkHtml = 'Like what you see? Visit the ' +\n",
              "            '<a target=\"_blank\" href=https://colab.research.google.com/notebooks/data_table.ipynb>data table notebook</a>'\n",
              "            + ' to learn more about interactive tables.';\n",
              "          element.innerHTML = '';\n",
              "          dataTable['output_type'] = 'display_data';\n",
              "          await google.colab.output.renderOutput(dataTable, element);\n",
              "          const docLink = document.createElement('div');\n",
              "          docLink.innerHTML = docLinkHtml;\n",
              "          element.appendChild(docLink);\n",
              "        }\n",
              "      </script>\n",
              "    </div>\n",
              "  </div>\n",
              "  "
            ]
          },
          "metadata": {},
          "execution_count": 6
        }
      ]
    },
    {
      "cell_type": "markdown",
      "source": [
        "I found that there are around 32 thousand rows that are considered as complete duplicates.\n",
        "\n"
      ],
      "metadata": {
        "id": "i7UBgEODPQb5"
      }
    },
    {
      "cell_type": "code",
      "source": [
        "\n",
        "df = df.drop_duplicates()"
      ],
      "metadata": {
        "id": "5p5Xp7Ax2Z56"
      },
      "execution_count": null,
      "outputs": []
    },
    {
      "cell_type": "markdown",
      "source": [
        "To check, i can verify that there would only be 87300 rows left in our dataframe `data`."
      ],
      "metadata": {
        "id": "48uXGsf-Rw2R"
      }
    },
    {
      "cell_type": "code",
      "source": [
        "\n",
        "print(df.shape)"
      ],
      "metadata": {
        "id": "KbuQBmFnR8JQ",
        "colab": {
          "base_uri": "https://localhost:8080/"
        },
        "outputId": "e649258e-71a3-4a8d-be7f-da245b83e330"
      },
      "execution_count": null,
      "outputs": [
        {
          "output_type": "stream",
          "name": "stdout",
          "text": [
            "(87300, 24)\n"
          ]
        }
      ]
    },
    {
      "cell_type": "code",
      "source": [
        "\n",
        "assert(df.shape == (87300, 24))"
      ],
      "metadata": {
        "id": "rDfiVLpGSBiu"
      },
      "execution_count": null,
      "outputs": []
    },
    {
      "cell_type": "markdown",
      "source": [
        "### Task 4: Check the Columns containing Missing Values"
      ],
      "metadata": {
        "id": "fzoaiYEGS0_t"
      }
    },
    {
      "cell_type": "code",
      "source": [
        "\n",
        "num_missing_cols = df.isna().sum().sort_values(ascending=False)"
      ],
      "metadata": {
        "id": "V-AsJMCDS5bk"
      },
      "execution_count": null,
      "outputs": []
    },
    {
      "cell_type": "code",
      "source": [
        "\n",
        "print(num_missing_cols)"
      ],
      "metadata": {
        "id": "Q3Vf5gtnup8o",
        "colab": {
          "base_uri": "https://localhost:8080/"
        },
        "outputId": "d347ac46-5b96-4771-9a51-298695b1a07c"
      },
      "execution_count": null,
      "outputs": [
        {
          "output_type": "stream",
          "name": "stdout",
          "text": [
            "country                           451\n",
            "children                            4\n",
            "hotel                               0\n",
            "reserved_room_type                  0\n",
            "status                              0\n",
            "special_requests                    0\n",
            "car_parking_spaces                  0\n",
            "adr                                 0\n",
            "customer_type                       0\n",
            "days_in_waiting_list                0\n",
            "deposit_type                        0\n",
            "booking_changes                     0\n",
            "assigned_room_type                  0\n",
            "previous_bookings_not_canceled      0\n",
            "lead_time                           0\n",
            "previous_cancellations              0\n",
            "is_repeated_guest                   0\n",
            "meal                                0\n",
            "babies                              0\n",
            "adults                              0\n",
            "arrival_date_day_of_month           0\n",
            "arrival_date_month                  0\n",
            "arrival_date_year                   0\n",
            "status_last_update                  0\n",
            "dtype: int64\n"
          ]
        }
      ]
    },
    {
      "cell_type": "code",
      "source": [
        "\n",
        "assert(type(num_missing_cols) == pd.Series)\n",
        "assert(num_missing_cols.shape == (24,))\n",
        "assert(all(num_missing_cols[:3] == [451,4,0]))"
      ],
      "metadata": {
        "id": "NtJr5Wr5ukXb"
      },
      "execution_count": null,
      "outputs": []
    },
    {
      "cell_type": "markdown",
      "source": [
        "i can see in our counts that both columns `country` and `children` have missing values."
      ],
      "metadata": {
        "id": "flUqiDiV9hqf"
      }
    },
    {
      "cell_type": "markdown",
      "source": [
        "### Task 5: Clean the `country` and `children` column by providing a default value\n",
        "\n"
      ],
      "metadata": {
        "id": "h5ZeEA4gws0C"
      }
    },
    {
      "cell_type": "code",
      "source": [
        "\n",
        "df[df['country'].isna()].head()"
      ],
      "metadata": {
        "id": "kF3uFaIfyOsj",
        "colab": {
          "base_uri": "https://localhost:8080/",
          "height": 386
        },
        "outputId": "de8cae99-a2c4-4af4-815a-91ba5f8b008c"
      },
      "execution_count": null,
      "outputs": [
        {
          "output_type": "execute_result",
          "data": {
            "text/plain": [
              "             hotel  lead_time  arrival_date_year arrival_date_month  \\\n",
              "30    Resort Hotel        118               2015               July   \n",
              "4127  Resort Hotel          0               2016           February   \n",
              "7092  Resort Hotel          8               2016               July   \n",
              "7860  Resort Hotel         39               2016             August   \n",
              "8779  Resort Hotel          0               2016            October   \n",
              "\n",
              "      arrival_date_day_of_month  adults  children  babies meal country  ...  \\\n",
              "30                            1       1       0.0       0   BB     NaN  ...   \n",
              "4127                         15       0       0.0       0   SC     NaN  ...   \n",
              "7092                         21       1       0.0       0   BB     NaN  ...   \n",
              "7860                         30       2       0.0       0   HB     NaN  ...   \n",
              "8779                         13       1       0.0       0   BB     NaN  ...   \n",
              "\n",
              "      assigned_room_type  booking_changes  deposit_type days_in_waiting_list  \\\n",
              "30                     A                2    No Deposit                    0   \n",
              "4127                   P                0    No Deposit                    0   \n",
              "7092                   A                0    No Deposit                    0   \n",
              "7860                   A                0    No Deposit                    0   \n",
              "8779                   A                0    No Deposit                    0   \n",
              "\n",
              "     customer_type    adr car_parking_spaces  special_requests     status  \\\n",
              "30       Transient   62.0                  0                 2  Check-Out   \n",
              "4127     Transient    0.0                  0                 0   Canceled   \n",
              "7092     Transient   73.0                  0                 2   Canceled   \n",
              "7860     Transient  159.0                  0                 5   Canceled   \n",
              "8779     Transient   50.0                  0                 0   Canceled   \n",
              "\n",
              "      status_last_update  \n",
              "30             7/15/2015  \n",
              "4127           2/15/2016  \n",
              "7092           7/20/2016  \n",
              "7860           7/22/2016  \n",
              "8779          10/13/2016  \n",
              "\n",
              "[5 rows x 24 columns]"
            ],
            "text/html": [
              "\n",
              "  <div id=\"df-8da2390e-b0b0-465a-8f8d-65fb7824e1db\">\n",
              "    <div class=\"colab-df-container\">\n",
              "      <div>\n",
              "<style scoped>\n",
              "    .dataframe tbody tr th:only-of-type {\n",
              "        vertical-align: middle;\n",
              "    }\n",
              "\n",
              "    .dataframe tbody tr th {\n",
              "        vertical-align: top;\n",
              "    }\n",
              "\n",
              "    .dataframe thead th {\n",
              "        text-align: right;\n",
              "    }\n",
              "</style>\n",
              "<table border=\"1\" class=\"dataframe\">\n",
              "  <thead>\n",
              "    <tr style=\"text-align: right;\">\n",
              "      <th></th>\n",
              "      <th>hotel</th>\n",
              "      <th>lead_time</th>\n",
              "      <th>arrival_date_year</th>\n",
              "      <th>arrival_date_month</th>\n",
              "      <th>arrival_date_day_of_month</th>\n",
              "      <th>adults</th>\n",
              "      <th>children</th>\n",
              "      <th>babies</th>\n",
              "      <th>meal</th>\n",
              "      <th>country</th>\n",
              "      <th>...</th>\n",
              "      <th>assigned_room_type</th>\n",
              "      <th>booking_changes</th>\n",
              "      <th>deposit_type</th>\n",
              "      <th>days_in_waiting_list</th>\n",
              "      <th>customer_type</th>\n",
              "      <th>adr</th>\n",
              "      <th>car_parking_spaces</th>\n",
              "      <th>special_requests</th>\n",
              "      <th>status</th>\n",
              "      <th>status_last_update</th>\n",
              "    </tr>\n",
              "  </thead>\n",
              "  <tbody>\n",
              "    <tr>\n",
              "      <th>30</th>\n",
              "      <td>Resort Hotel</td>\n",
              "      <td>118</td>\n",
              "      <td>2015</td>\n",
              "      <td>July</td>\n",
              "      <td>1</td>\n",
              "      <td>1</td>\n",
              "      <td>0.0</td>\n",
              "      <td>0</td>\n",
              "      <td>BB</td>\n",
              "      <td>NaN</td>\n",
              "      <td>...</td>\n",
              "      <td>A</td>\n",
              "      <td>2</td>\n",
              "      <td>No Deposit</td>\n",
              "      <td>0</td>\n",
              "      <td>Transient</td>\n",
              "      <td>62.0</td>\n",
              "      <td>0</td>\n",
              "      <td>2</td>\n",
              "      <td>Check-Out</td>\n",
              "      <td>7/15/2015</td>\n",
              "    </tr>\n",
              "    <tr>\n",
              "      <th>4127</th>\n",
              "      <td>Resort Hotel</td>\n",
              "      <td>0</td>\n",
              "      <td>2016</td>\n",
              "      <td>February</td>\n",
              "      <td>15</td>\n",
              "      <td>0</td>\n",
              "      <td>0.0</td>\n",
              "      <td>0</td>\n",
              "      <td>SC</td>\n",
              "      <td>NaN</td>\n",
              "      <td>...</td>\n",
              "      <td>P</td>\n",
              "      <td>0</td>\n",
              "      <td>No Deposit</td>\n",
              "      <td>0</td>\n",
              "      <td>Transient</td>\n",
              "      <td>0.0</td>\n",
              "      <td>0</td>\n",
              "      <td>0</td>\n",
              "      <td>Canceled</td>\n",
              "      <td>2/15/2016</td>\n",
              "    </tr>\n",
              "    <tr>\n",
              "      <th>7092</th>\n",
              "      <td>Resort Hotel</td>\n",
              "      <td>8</td>\n",
              "      <td>2016</td>\n",
              "      <td>July</td>\n",
              "      <td>21</td>\n",
              "      <td>1</td>\n",
              "      <td>0.0</td>\n",
              "      <td>0</td>\n",
              "      <td>BB</td>\n",
              "      <td>NaN</td>\n",
              "      <td>...</td>\n",
              "      <td>A</td>\n",
              "      <td>0</td>\n",
              "      <td>No Deposit</td>\n",
              "      <td>0</td>\n",
              "      <td>Transient</td>\n",
              "      <td>73.0</td>\n",
              "      <td>0</td>\n",
              "      <td>2</td>\n",
              "      <td>Canceled</td>\n",
              "      <td>7/20/2016</td>\n",
              "    </tr>\n",
              "    <tr>\n",
              "      <th>7860</th>\n",
              "      <td>Resort Hotel</td>\n",
              "      <td>39</td>\n",
              "      <td>2016</td>\n",
              "      <td>August</td>\n",
              "      <td>30</td>\n",
              "      <td>2</td>\n",
              "      <td>0.0</td>\n",
              "      <td>0</td>\n",
              "      <td>HB</td>\n",
              "      <td>NaN</td>\n",
              "      <td>...</td>\n",
              "      <td>A</td>\n",
              "      <td>0</td>\n",
              "      <td>No Deposit</td>\n",
              "      <td>0</td>\n",
              "      <td>Transient</td>\n",
              "      <td>159.0</td>\n",
              "      <td>0</td>\n",
              "      <td>5</td>\n",
              "      <td>Canceled</td>\n",
              "      <td>7/22/2016</td>\n",
              "    </tr>\n",
              "    <tr>\n",
              "      <th>8779</th>\n",
              "      <td>Resort Hotel</td>\n",
              "      <td>0</td>\n",
              "      <td>2016</td>\n",
              "      <td>October</td>\n",
              "      <td>13</td>\n",
              "      <td>1</td>\n",
              "      <td>0.0</td>\n",
              "      <td>0</td>\n",
              "      <td>BB</td>\n",
              "      <td>NaN</td>\n",
              "      <td>...</td>\n",
              "      <td>A</td>\n",
              "      <td>0</td>\n",
              "      <td>No Deposit</td>\n",
              "      <td>0</td>\n",
              "      <td>Transient</td>\n",
              "      <td>50.0</td>\n",
              "      <td>0</td>\n",
              "      <td>0</td>\n",
              "      <td>Canceled</td>\n",
              "      <td>10/13/2016</td>\n",
              "    </tr>\n",
              "  </tbody>\n",
              "</table>\n",
              "<p>5 rows × 24 columns</p>\n",
              "</div>\n",
              "      <button class=\"colab-df-convert\" onclick=\"convertToInteractive('df-8da2390e-b0b0-465a-8f8d-65fb7824e1db')\"\n",
              "              title=\"Convert this dataframe to an interactive table.\"\n",
              "              style=\"display:none;\">\n",
              "        \n",
              "  <svg xmlns=\"http://www.w3.org/2000/svg\" height=\"24px\"viewBox=\"0 0 24 24\"\n",
              "       width=\"24px\">\n",
              "    <path d=\"M0 0h24v24H0V0z\" fill=\"none\"/>\n",
              "    <path d=\"M18.56 5.44l.94 2.06.94-2.06 2.06-.94-2.06-.94-.94-2.06-.94 2.06-2.06.94zm-11 1L8.5 8.5l.94-2.06 2.06-.94-2.06-.94L8.5 2.5l-.94 2.06-2.06.94zm10 10l.94 2.06.94-2.06 2.06-.94-2.06-.94-.94-2.06-.94 2.06-2.06.94z\"/><path d=\"M17.41 7.96l-1.37-1.37c-.4-.4-.92-.59-1.43-.59-.52 0-1.04.2-1.43.59L10.3 9.45l-7.72 7.72c-.78.78-.78 2.05 0 2.83L4 21.41c.39.39.9.59 1.41.59.51 0 1.02-.2 1.41-.59l7.78-7.78 2.81-2.81c.8-.78.8-2.07 0-2.86zM5.41 20L4 18.59l7.72-7.72 1.47 1.35L5.41 20z\"/>\n",
              "  </svg>\n",
              "      </button>\n",
              "      \n",
              "  <style>\n",
              "    .colab-df-container {\n",
              "      display:flex;\n",
              "      flex-wrap:wrap;\n",
              "      gap: 12px;\n",
              "    }\n",
              "\n",
              "    .colab-df-convert {\n",
              "      background-color: #E8F0FE;\n",
              "      border: none;\n",
              "      border-radius: 50%;\n",
              "      cursor: pointer;\n",
              "      display: none;\n",
              "      fill: #1967D2;\n",
              "      height: 32px;\n",
              "      padding: 0 0 0 0;\n",
              "      width: 32px;\n",
              "    }\n",
              "\n",
              "    .colab-df-convert:hover {\n",
              "      background-color: #E2EBFA;\n",
              "      box-shadow: 0px 1px 2px rgba(60, 64, 67, 0.3), 0px 1px 3px 1px rgba(60, 64, 67, 0.15);\n",
              "      fill: #174EA6;\n",
              "    }\n",
              "\n",
              "    [theme=dark] .colab-df-convert {\n",
              "      background-color: #3B4455;\n",
              "      fill: #D2E3FC;\n",
              "    }\n",
              "\n",
              "    [theme=dark] .colab-df-convert:hover {\n",
              "      background-color: #434B5C;\n",
              "      box-shadow: 0px 1px 3px 1px rgba(0, 0, 0, 0.15);\n",
              "      filter: drop-shadow(0px 1px 2px rgba(0, 0, 0, 0.3));\n",
              "      fill: #FFFFFF;\n",
              "    }\n",
              "  </style>\n",
              "\n",
              "      <script>\n",
              "        const buttonEl =\n",
              "          document.querySelector('#df-8da2390e-b0b0-465a-8f8d-65fb7824e1db button.colab-df-convert');\n",
              "        buttonEl.style.display =\n",
              "          google.colab.kernel.accessAllowed ? 'block' : 'none';\n",
              "\n",
              "        async function convertToInteractive(key) {\n",
              "          const element = document.querySelector('#df-8da2390e-b0b0-465a-8f8d-65fb7824e1db');\n",
              "          const dataTable =\n",
              "            await google.colab.kernel.invokeFunction('convertToInteractive',\n",
              "                                                     [key], {});\n",
              "          if (!dataTable) return;\n",
              "\n",
              "          const docLinkHtml = 'Like what you see? Visit the ' +\n",
              "            '<a target=\"_blank\" href=https://colab.research.google.com/notebooks/data_table.ipynb>data table notebook</a>'\n",
              "            + ' to learn more about interactive tables.';\n",
              "          element.innerHTML = '';\n",
              "          dataTable['output_type'] = 'display_data';\n",
              "          await google.colab.output.renderOutput(dataTable, element);\n",
              "          const docLink = document.createElement('div');\n",
              "          docLink.innerHTML = docLinkHtml;\n",
              "          element.appendChild(docLink);\n",
              "        }\n",
              "      </script>\n",
              "    </div>\n",
              "  </div>\n",
              "  "
            ]
          },
          "metadata": {},
          "execution_count": 13
        }
      ]
    },
    {
      "cell_type": "code",
      "source": [
        "\n",
        "df[df['children'].isna()].head()"
      ],
      "metadata": {
        "id": "siuflgcY89LS",
        "colab": {
          "base_uri": "https://localhost:8080/",
          "height": 338
        },
        "outputId": "b692cebc-1173-4482-ad15-d3d9c96d471a"
      },
      "execution_count": null,
      "outputs": [
        {
          "output_type": "execute_result",
          "data": {
            "text/plain": [
              "            hotel  lead_time  arrival_date_year arrival_date_month  \\\n",
              "40600  City Hotel          2               2015             August   \n",
              "40667  City Hotel          1               2015             August   \n",
              "40679  City Hotel          1               2015             August   \n",
              "41160  City Hotel          8               2015             August   \n",
              "\n",
              "       arrival_date_day_of_month  adults  children  babies meal country  ...  \\\n",
              "40600                          3       2       NaN       0   BB     PRT  ...   \n",
              "40667                          5       2       NaN       0   BB     PRT  ...   \n",
              "40679                          5       3       NaN       0   BB     PRT  ...   \n",
              "41160                         13       2       NaN       0   BB     PRT  ...   \n",
              "\n",
              "       assigned_room_type  booking_changes  deposit_type days_in_waiting_list  \\\n",
              "40600                   B                0    No Deposit                    0   \n",
              "40667                   B                0    No Deposit                    0   \n",
              "40679                   B                0    No Deposit                    0   \n",
              "41160                   B                0    No Deposit                    0   \n",
              "\n",
              "         customer_type   adr car_parking_spaces  special_requests    status  \\\n",
              "40600  Transient-Party  12.0                  0                 1  Canceled   \n",
              "40667  Transient-Party  12.0                  0                 1  Canceled   \n",
              "40679  Transient-Party  18.0                  0                 2  Canceled   \n",
              "41160  Transient-Party  76.5                  0                 1  Canceled   \n",
              "\n",
              "       status_last_update  \n",
              "40600            8/1/2015  \n",
              "40667            8/4/2015  \n",
              "40679            8/4/2015  \n",
              "41160            8/9/2015  \n",
              "\n",
              "[4 rows x 24 columns]"
            ],
            "text/html": [
              "\n",
              "  <div id=\"df-c4890c07-44e1-439f-ae37-3f0c064ac18f\">\n",
              "    <div class=\"colab-df-container\">\n",
              "      <div>\n",
              "<style scoped>\n",
              "    .dataframe tbody tr th:only-of-type {\n",
              "        vertical-align: middle;\n",
              "    }\n",
              "\n",
              "    .dataframe tbody tr th {\n",
              "        vertical-align: top;\n",
              "    }\n",
              "\n",
              "    .dataframe thead th {\n",
              "        text-align: right;\n",
              "    }\n",
              "</style>\n",
              "<table border=\"1\" class=\"dataframe\">\n",
              "  <thead>\n",
              "    <tr style=\"text-align: right;\">\n",
              "      <th></th>\n",
              "      <th>hotel</th>\n",
              "      <th>lead_time</th>\n",
              "      <th>arrival_date_year</th>\n",
              "      <th>arrival_date_month</th>\n",
              "      <th>arrival_date_day_of_month</th>\n",
              "      <th>adults</th>\n",
              "      <th>children</th>\n",
              "      <th>babies</th>\n",
              "      <th>meal</th>\n",
              "      <th>country</th>\n",
              "      <th>...</th>\n",
              "      <th>assigned_room_type</th>\n",
              "      <th>booking_changes</th>\n",
              "      <th>deposit_type</th>\n",
              "      <th>days_in_waiting_list</th>\n",
              "      <th>customer_type</th>\n",
              "      <th>adr</th>\n",
              "      <th>car_parking_spaces</th>\n",
              "      <th>special_requests</th>\n",
              "      <th>status</th>\n",
              "      <th>status_last_update</th>\n",
              "    </tr>\n",
              "  </thead>\n",
              "  <tbody>\n",
              "    <tr>\n",
              "      <th>40600</th>\n",
              "      <td>City Hotel</td>\n",
              "      <td>2</td>\n",
              "      <td>2015</td>\n",
              "      <td>August</td>\n",
              "      <td>3</td>\n",
              "      <td>2</td>\n",
              "      <td>NaN</td>\n",
              "      <td>0</td>\n",
              "      <td>BB</td>\n",
              "      <td>PRT</td>\n",
              "      <td>...</td>\n",
              "      <td>B</td>\n",
              "      <td>0</td>\n",
              "      <td>No Deposit</td>\n",
              "      <td>0</td>\n",
              "      <td>Transient-Party</td>\n",
              "      <td>12.0</td>\n",
              "      <td>0</td>\n",
              "      <td>1</td>\n",
              "      <td>Canceled</td>\n",
              "      <td>8/1/2015</td>\n",
              "    </tr>\n",
              "    <tr>\n",
              "      <th>40667</th>\n",
              "      <td>City Hotel</td>\n",
              "      <td>1</td>\n",
              "      <td>2015</td>\n",
              "      <td>August</td>\n",
              "      <td>5</td>\n",
              "      <td>2</td>\n",
              "      <td>NaN</td>\n",
              "      <td>0</td>\n",
              "      <td>BB</td>\n",
              "      <td>PRT</td>\n",
              "      <td>...</td>\n",
              "      <td>B</td>\n",
              "      <td>0</td>\n",
              "      <td>No Deposit</td>\n",
              "      <td>0</td>\n",
              "      <td>Transient-Party</td>\n",
              "      <td>12.0</td>\n",
              "      <td>0</td>\n",
              "      <td>1</td>\n",
              "      <td>Canceled</td>\n",
              "      <td>8/4/2015</td>\n",
              "    </tr>\n",
              "    <tr>\n",
              "      <th>40679</th>\n",
              "      <td>City Hotel</td>\n",
              "      <td>1</td>\n",
              "      <td>2015</td>\n",
              "      <td>August</td>\n",
              "      <td>5</td>\n",
              "      <td>3</td>\n",
              "      <td>NaN</td>\n",
              "      <td>0</td>\n",
              "      <td>BB</td>\n",
              "      <td>PRT</td>\n",
              "      <td>...</td>\n",
              "      <td>B</td>\n",
              "      <td>0</td>\n",
              "      <td>No Deposit</td>\n",
              "      <td>0</td>\n",
              "      <td>Transient-Party</td>\n",
              "      <td>18.0</td>\n",
              "      <td>0</td>\n",
              "      <td>2</td>\n",
              "      <td>Canceled</td>\n",
              "      <td>8/4/2015</td>\n",
              "    </tr>\n",
              "    <tr>\n",
              "      <th>41160</th>\n",
              "      <td>City Hotel</td>\n",
              "      <td>8</td>\n",
              "      <td>2015</td>\n",
              "      <td>August</td>\n",
              "      <td>13</td>\n",
              "      <td>2</td>\n",
              "      <td>NaN</td>\n",
              "      <td>0</td>\n",
              "      <td>BB</td>\n",
              "      <td>PRT</td>\n",
              "      <td>...</td>\n",
              "      <td>B</td>\n",
              "      <td>0</td>\n",
              "      <td>No Deposit</td>\n",
              "      <td>0</td>\n",
              "      <td>Transient-Party</td>\n",
              "      <td>76.5</td>\n",
              "      <td>0</td>\n",
              "      <td>1</td>\n",
              "      <td>Canceled</td>\n",
              "      <td>8/9/2015</td>\n",
              "    </tr>\n",
              "  </tbody>\n",
              "</table>\n",
              "<p>4 rows × 24 columns</p>\n",
              "</div>\n",
              "      <button class=\"colab-df-convert\" onclick=\"convertToInteractive('df-c4890c07-44e1-439f-ae37-3f0c064ac18f')\"\n",
              "              title=\"Convert this dataframe to an interactive table.\"\n",
              "              style=\"display:none;\">\n",
              "        \n",
              "  <svg xmlns=\"http://www.w3.org/2000/svg\" height=\"24px\"viewBox=\"0 0 24 24\"\n",
              "       width=\"24px\">\n",
              "    <path d=\"M0 0h24v24H0V0z\" fill=\"none\"/>\n",
              "    <path d=\"M18.56 5.44l.94 2.06.94-2.06 2.06-.94-2.06-.94-.94-2.06-.94 2.06-2.06.94zm-11 1L8.5 8.5l.94-2.06 2.06-.94-2.06-.94L8.5 2.5l-.94 2.06-2.06.94zm10 10l.94 2.06.94-2.06 2.06-.94-2.06-.94-.94-2.06-.94 2.06-2.06.94z\"/><path d=\"M17.41 7.96l-1.37-1.37c-.4-.4-.92-.59-1.43-.59-.52 0-1.04.2-1.43.59L10.3 9.45l-7.72 7.72c-.78.78-.78 2.05 0 2.83L4 21.41c.39.39.9.59 1.41.59.51 0 1.02-.2 1.41-.59l7.78-7.78 2.81-2.81c.8-.78.8-2.07 0-2.86zM5.41 20L4 18.59l7.72-7.72 1.47 1.35L5.41 20z\"/>\n",
              "  </svg>\n",
              "      </button>\n",
              "      \n",
              "  <style>\n",
              "    .colab-df-container {\n",
              "      display:flex;\n",
              "      flex-wrap:wrap;\n",
              "      gap: 12px;\n",
              "    }\n",
              "\n",
              "    .colab-df-convert {\n",
              "      background-color: #E8F0FE;\n",
              "      border: none;\n",
              "      border-radius: 50%;\n",
              "      cursor: pointer;\n",
              "      display: none;\n",
              "      fill: #1967D2;\n",
              "      height: 32px;\n",
              "      padding: 0 0 0 0;\n",
              "      width: 32px;\n",
              "    }\n",
              "\n",
              "    .colab-df-convert:hover {\n",
              "      background-color: #E2EBFA;\n",
              "      box-shadow: 0px 1px 2px rgba(60, 64, 67, 0.3), 0px 1px 3px 1px rgba(60, 64, 67, 0.15);\n",
              "      fill: #174EA6;\n",
              "    }\n",
              "\n",
              "    [theme=dark] .colab-df-convert {\n",
              "      background-color: #3B4455;\n",
              "      fill: #D2E3FC;\n",
              "    }\n",
              "\n",
              "    [theme=dark] .colab-df-convert:hover {\n",
              "      background-color: #434B5C;\n",
              "      box-shadow: 0px 1px 3px 1px rgba(0, 0, 0, 0.15);\n",
              "      filter: drop-shadow(0px 1px 2px rgba(0, 0, 0, 0.3));\n",
              "      fill: #FFFFFF;\n",
              "    }\n",
              "  </style>\n",
              "\n",
              "      <script>\n",
              "        const buttonEl =\n",
              "          document.querySelector('#df-c4890c07-44e1-439f-ae37-3f0c064ac18f button.colab-df-convert');\n",
              "        buttonEl.style.display =\n",
              "          google.colab.kernel.accessAllowed ? 'block' : 'none';\n",
              "\n",
              "        async function convertToInteractive(key) {\n",
              "          const element = document.querySelector('#df-c4890c07-44e1-439f-ae37-3f0c064ac18f');\n",
              "          const dataTable =\n",
              "            await google.colab.kernel.invokeFunction('convertToInteractive',\n",
              "                                                     [key], {});\n",
              "          if (!dataTable) return;\n",
              "\n",
              "          const docLinkHtml = 'Like what you see? Visit the ' +\n",
              "            '<a target=\"_blank\" href=https://colab.research.google.com/notebooks/data_table.ipynb>data table notebook</a>'\n",
              "            + ' to learn more about interactive tables.';\n",
              "          element.innerHTML = '';\n",
              "          dataTable['output_type'] = 'display_data';\n",
              "          await google.colab.output.renderOutput(dataTable, element);\n",
              "          const docLink = document.createElement('div');\n",
              "          docLink.innerHTML = docLinkHtml;\n",
              "          element.appendChild(docLink);\n",
              "        }\n",
              "      </script>\n",
              "    </div>\n",
              "  </div>\n",
              "  "
            ]
          },
          "metadata": {},
          "execution_count": 14
        }
      ]
    },
    {
      "cell_type": "markdown",
      "source": [
        "i can see that there are some rows have missing values indicated as `NaN`.\n",
        "\n",
        "\n"
      ],
      "metadata": {
        "id": "jTOIcYS49T3b"
      }
    },
    {
      "cell_type": "code",
      "source": [
        "\n",
        "df['country'].fillna('Other', inplace=True)"
      ],
      "metadata": {
        "id": "pHnC-03Ex4WY"
      },
      "execution_count": null,
      "outputs": []
    },
    {
      "cell_type": "markdown",
      "source": [
        "On the other hand, there are missing values in the `children` column."
      ],
      "metadata": {
        "id": "1rOtE4TU-5VH"
      }
    },
    {
      "cell_type": "code",
      "source": [
        "\n",
        "df['children'].fillna(0, inplace=True)"
      ],
      "metadata": {
        "id": "2A4XYS91-4_q"
      },
      "execution_count": null,
      "outputs": []
    },
    {
      "cell_type": "markdown",
      "source": [
        "to verify the progress, i'll going to initially check them using `assert` statement."
      ],
      "metadata": {
        "id": "eOUOmleeAOd4"
      }
    },
    {
      "cell_type": "code",
      "source": [
        "\n",
        "assert(all(df[['country','children']].isna().sum() == 0))"
      ],
      "metadata": {
        "id": "VqesR0rtyzgV"
      },
      "execution_count": null,
      "outputs": []
    },
    {
      "cell_type": "markdown",
      "source": [
        "### Task 6: Clean the date-related columns by creating a column with datetime data type."
      ],
      "metadata": {
        "id": "k9J7rKfZxFFb"
      }
    },
    {
      "cell_type": "code",
      "source": [
        "\n",
        "\n",
        "cols_to_use = ['arrival_date_year','arrival_date_month','arrival_date_day_of_month', 'status_last_update']\n",
        "\n",
        "df[cols_to_use].head()"
      ],
      "metadata": {
        "id": "t0JEi72WB3Va",
        "colab": {
          "base_uri": "https://localhost:8080/",
          "height": 206
        },
        "outputId": "9c2edc12-dfce-4372-c8ea-53c7a5b4ddf7"
      },
      "execution_count": null,
      "outputs": [
        {
          "output_type": "execute_result",
          "data": {
            "text/plain": [
              "   arrival_date_year arrival_date_month  arrival_date_day_of_month  \\\n",
              "0               2015               July                          1   \n",
              "1               2015               July                          1   \n",
              "2               2015               July                          1   \n",
              "3               2015               July                          1   \n",
              "4               2015               July                          1   \n",
              "\n",
              "  status_last_update  \n",
              "0           7/1/2015  \n",
              "1           7/1/2015  \n",
              "2           7/2/2015  \n",
              "3           7/2/2015  \n",
              "4           7/3/2015  "
            ],
            "text/html": [
              "\n",
              "  <div id=\"df-353d488c-b576-4769-b14e-288759d46dc9\">\n",
              "    <div class=\"colab-df-container\">\n",
              "      <div>\n",
              "<style scoped>\n",
              "    .dataframe tbody tr th:only-of-type {\n",
              "        vertical-align: middle;\n",
              "    }\n",
              "\n",
              "    .dataframe tbody tr th {\n",
              "        vertical-align: top;\n",
              "    }\n",
              "\n",
              "    .dataframe thead th {\n",
              "        text-align: right;\n",
              "    }\n",
              "</style>\n",
              "<table border=\"1\" class=\"dataframe\">\n",
              "  <thead>\n",
              "    <tr style=\"text-align: right;\">\n",
              "      <th></th>\n",
              "      <th>arrival_date_year</th>\n",
              "      <th>arrival_date_month</th>\n",
              "      <th>arrival_date_day_of_month</th>\n",
              "      <th>status_last_update</th>\n",
              "    </tr>\n",
              "  </thead>\n",
              "  <tbody>\n",
              "    <tr>\n",
              "      <th>0</th>\n",
              "      <td>2015</td>\n",
              "      <td>July</td>\n",
              "      <td>1</td>\n",
              "      <td>7/1/2015</td>\n",
              "    </tr>\n",
              "    <tr>\n",
              "      <th>1</th>\n",
              "      <td>2015</td>\n",
              "      <td>July</td>\n",
              "      <td>1</td>\n",
              "      <td>7/1/2015</td>\n",
              "    </tr>\n",
              "    <tr>\n",
              "      <th>2</th>\n",
              "      <td>2015</td>\n",
              "      <td>July</td>\n",
              "      <td>1</td>\n",
              "      <td>7/2/2015</td>\n",
              "    </tr>\n",
              "    <tr>\n",
              "      <th>3</th>\n",
              "      <td>2015</td>\n",
              "      <td>July</td>\n",
              "      <td>1</td>\n",
              "      <td>7/2/2015</td>\n",
              "    </tr>\n",
              "    <tr>\n",
              "      <th>4</th>\n",
              "      <td>2015</td>\n",
              "      <td>July</td>\n",
              "      <td>1</td>\n",
              "      <td>7/3/2015</td>\n",
              "    </tr>\n",
              "  </tbody>\n",
              "</table>\n",
              "</div>\n",
              "      <button class=\"colab-df-convert\" onclick=\"convertToInteractive('df-353d488c-b576-4769-b14e-288759d46dc9')\"\n",
              "              title=\"Convert this dataframe to an interactive table.\"\n",
              "              style=\"display:none;\">\n",
              "        \n",
              "  <svg xmlns=\"http://www.w3.org/2000/svg\" height=\"24px\"viewBox=\"0 0 24 24\"\n",
              "       width=\"24px\">\n",
              "    <path d=\"M0 0h24v24H0V0z\" fill=\"none\"/>\n",
              "    <path d=\"M18.56 5.44l.94 2.06.94-2.06 2.06-.94-2.06-.94-.94-2.06-.94 2.06-2.06.94zm-11 1L8.5 8.5l.94-2.06 2.06-.94-2.06-.94L8.5 2.5l-.94 2.06-2.06.94zm10 10l.94 2.06.94-2.06 2.06-.94-2.06-.94-.94-2.06-.94 2.06-2.06.94z\"/><path d=\"M17.41 7.96l-1.37-1.37c-.4-.4-.92-.59-1.43-.59-.52 0-1.04.2-1.43.59L10.3 9.45l-7.72 7.72c-.78.78-.78 2.05 0 2.83L4 21.41c.39.39.9.59 1.41.59.51 0 1.02-.2 1.41-.59l7.78-7.78 2.81-2.81c.8-.78.8-2.07 0-2.86zM5.41 20L4 18.59l7.72-7.72 1.47 1.35L5.41 20z\"/>\n",
              "  </svg>\n",
              "      </button>\n",
              "      \n",
              "  <style>\n",
              "    .colab-df-container {\n",
              "      display:flex;\n",
              "      flex-wrap:wrap;\n",
              "      gap: 12px;\n",
              "    }\n",
              "\n",
              "    .colab-df-convert {\n",
              "      background-color: #E8F0FE;\n",
              "      border: none;\n",
              "      border-radius: 50%;\n",
              "      cursor: pointer;\n",
              "      display: none;\n",
              "      fill: #1967D2;\n",
              "      height: 32px;\n",
              "      padding: 0 0 0 0;\n",
              "      width: 32px;\n",
              "    }\n",
              "\n",
              "    .colab-df-convert:hover {\n",
              "      background-color: #E2EBFA;\n",
              "      box-shadow: 0px 1px 2px rgba(60, 64, 67, 0.3), 0px 1px 3px 1px rgba(60, 64, 67, 0.15);\n",
              "      fill: #174EA6;\n",
              "    }\n",
              "\n",
              "    [theme=dark] .colab-df-convert {\n",
              "      background-color: #3B4455;\n",
              "      fill: #D2E3FC;\n",
              "    }\n",
              "\n",
              "    [theme=dark] .colab-df-convert:hover {\n",
              "      background-color: #434B5C;\n",
              "      box-shadow: 0px 1px 3px 1px rgba(0, 0, 0, 0.15);\n",
              "      filter: drop-shadow(0px 1px 2px rgba(0, 0, 0, 0.3));\n",
              "      fill: #FFFFFF;\n",
              "    }\n",
              "  </style>\n",
              "\n",
              "      <script>\n",
              "        const buttonEl =\n",
              "          document.querySelector('#df-353d488c-b576-4769-b14e-288759d46dc9 button.colab-df-convert');\n",
              "        buttonEl.style.display =\n",
              "          google.colab.kernel.accessAllowed ? 'block' : 'none';\n",
              "\n",
              "        async function convertToInteractive(key) {\n",
              "          const element = document.querySelector('#df-353d488c-b576-4769-b14e-288759d46dc9');\n",
              "          const dataTable =\n",
              "            await google.colab.kernel.invokeFunction('convertToInteractive',\n",
              "                                                     [key], {});\n",
              "          if (!dataTable) return;\n",
              "\n",
              "          const docLinkHtml = 'Like what you see? Visit the ' +\n",
              "            '<a target=\"_blank\" href=https://colab.research.google.com/notebooks/data_table.ipynb>data table notebook</a>'\n",
              "            + ' to learn more about interactive tables.';\n",
              "          element.innerHTML = '';\n",
              "          dataTable['output_type'] = 'display_data';\n",
              "          await google.colab.output.renderOutput(dataTable, element);\n",
              "          const docLink = document.createElement('div');\n",
              "          docLink.innerHTML = docLinkHtml;\n",
              "          element.appendChild(docLink);\n",
              "        }\n",
              "      </script>\n",
              "    </div>\n",
              "  </div>\n",
              "  "
            ]
          },
          "metadata": {},
          "execution_count": 18
        }
      ]
    },
    {
      "cell_type": "code",
      "source": [
        "\n",
        "df[cols_to_use].info()"
      ],
      "metadata": {
        "id": "wwB8DHzYCF1j",
        "colab": {
          "base_uri": "https://localhost:8080/"
        },
        "outputId": "1d998c4d-be03-4dc4-9002-51249ddd4503"
      },
      "execution_count": null,
      "outputs": [
        {
          "output_type": "stream",
          "name": "stdout",
          "text": [
            "<class 'pandas.core.frame.DataFrame'>\n",
            "Int64Index: 87300 entries, 0 to 119389\n",
            "Data columns (total 4 columns):\n",
            " #   Column                     Non-Null Count  Dtype \n",
            "---  ------                     --------------  ----- \n",
            " 0   arrival_date_year          87300 non-null  int64 \n",
            " 1   arrival_date_month         87300 non-null  object\n",
            " 2   arrival_date_day_of_month  87300 non-null  int64 \n",
            " 3   status_last_update         87300 non-null  object\n",
            "dtypes: int64(2), object(2)\n",
            "memory usage: 3.3+ MB\n"
          ]
        }
      ]
    },
    {
      "cell_type": "markdown",
      "source": [
        "i can observe that are three columns that defines the arrival date of a particular guest.\n",
        "\n",
        "My objective here is to first convert these columns arrival date columns to a string, and concatenate them. Afterwards, convert this concatenated column along with `status_last_update` to a `datetime` data type."
      ],
      "metadata": {
        "id": "nZHKSoABCI8y"
      }
    },
    {
      "cell_type": "markdown",
      "source": [
        "**First, convert the year and the day columns indicated as `arrival_date_year` and `arrival_date_day_of_month` respectively to a string column `str`.**"
      ],
      "metadata": {
        "id": "rxsgII_L143H"
      }
    },
    {
      "cell_type": "code",
      "source": [
        "\n",
        "df[['arrival_date_year','arrival_date_day_of_month']] = df[['arrival_date_year','arrival_date_day_of_month']].astype('str')"
      ],
      "metadata": {
        "id": "x8VDc_OO1z2m"
      },
      "execution_count": null,
      "outputs": []
    },
    {
      "cell_type": "markdown",
      "source": [
        "**After converting them to `str`, we merge the three columns into a single column named `arrival_date` following the format `YYYY-Month-DD`**\n",
        "\n",
        "Examples: `2015-July-1`, `2017-August-30`"
      ],
      "metadata": {
        "id": "WNNKgR8c2eqV"
      }
    },
    {
      "cell_type": "code",
      "source": [
        "\n",
        "col_arrival_dates = ['arrival_date_year', 'arrival_date_month', 'arrival_date_day_of_month']\n",
        "df['arrival_date'] = df[col_arrival_dates].apply( lambda x: '/'.join(x),axis=1)\n",
        "\n"
      ],
      "metadata": {
        "id": "uHgdA4jpzUWV"
      },
      "execution_count": null,
      "outputs": []
    },
    {
      "cell_type": "code",
      "source": [
        "\n",
        "print(df['arrival_date'])"
      ],
      "metadata": {
        "id": "uaXJPZszIceu",
        "colab": {
          "base_uri": "https://localhost:8080/"
        },
        "outputId": "fefd9b7c-1155-41a2-9f4c-cae9c9e201de"
      },
      "execution_count": null,
      "outputs": [
        {
          "output_type": "stream",
          "name": "stdout",
          "text": [
            "0            2015/July/1\n",
            "1            2015/July/1\n",
            "2            2015/July/1\n",
            "3            2015/July/1\n",
            "4            2015/July/1\n",
            "               ...      \n",
            "119385    2017/August/30\n",
            "119386    2017/August/31\n",
            "119387    2017/August/31\n",
            "119388    2017/August/31\n",
            "119389    2017/August/29\n",
            "Name: arrival_date, Length: 87300, dtype: object\n"
          ]
        }
      ]
    },
    {
      "cell_type": "code",
      "source": [
        "\n",
        "assert(pd.api.types.is_string_dtype(df['arrival_date']))\n",
        "assert(all(df['arrival_date'].apply(lambda x: x.count('/')) == 2))\n",
        "assert(df['arrival_date'].isna().sum() == 0)\n",
        "assert(df['arrival_date'].shape == (87300,))"
      ],
      "metadata": {
        "id": "A9hHmshbGUx7"
      },
      "execution_count": null,
      "outputs": []
    },
    {
      "cell_type": "markdown",
      "source": [
        "**Next, convert the `arrival_date` and `status_last_update` column into a datetime data type using `pd.to_datetime`**"
      ],
      "metadata": {
        "id": "klRKSrxz391W"
      }
    },
    {
      "cell_type": "code",
      "source": [
        "\n",
        "df['arrival_date'] = pd.to_datetime(df['arrival_date'])\n",
        "df['status_last_update'] = pd.to_datetime(df['status_last_update'])"
      ],
      "metadata": {
        "id": "1hBDVWjI2h0D"
      },
      "execution_count": null,
      "outputs": []
    },
    {
      "cell_type": "markdown",
      "source": [
        "**Finally, remove the columns listed in `col_arrival_dates` in the dataframe `data`.**"
      ],
      "metadata": {
        "id": "Myvx_V8W_OEf"
      }
    },
    {
      "cell_type": "code",
      "source": [
        "\n",
        "col_arrival_dates = ['arrival_date_year', 'arrival_date_month', 'arrival_date_day_of_month']\n",
        "df.drop(col_arrival_dates, axis=1, inplace=True)\n"
      ],
      "metadata": {
        "id": "lCola6fv-6h_"
      },
      "execution_count": null,
      "outputs": []
    },
    {
      "cell_type": "code",
      "source": [
        "assert(df.shape == (87300, 22))\n",
        "assert(pd.api.types.is_datetime64_dtype(df['arrival_date']))\n",
        "assert(pd.api.types.is_datetime64_dtype(df['status_last_update']))"
      ],
      "metadata": {
        "id": "EelmUjkuU4Iy"
      },
      "execution_count": null,
      "outputs": []
    },
    {
      "cell_type": "markdown",
      "source": [
        "### Task 7: Checking for Outliers\n",
        "\n"
      ],
      "metadata": {
        "id": "il0fS8EGiDAa"
      }
    },
    {
      "cell_type": "markdown",
      "source": [
        "**Show the summary statistics of the column `adr` in the dataframe `data`, and store the results into a variable `adr_summary`.**"
      ],
      "metadata": {
        "id": "Ftcjb7Pbnbg9"
      }
    },
    {
      "cell_type": "code",
      "source": [
        "\n",
        "adr_summary = df['adr'].describe()"
      ],
      "metadata": {
        "id": "hpWtFhsZnYcR"
      },
      "execution_count": null,
      "outputs": []
    },
    {
      "cell_type": "code",
      "source": [
        "\n",
        "print(adr_summary)"
      ],
      "metadata": {
        "id": "uVvRSZ_bogqu",
        "colab": {
          "base_uri": "https://localhost:8080/"
        },
        "outputId": "96c676a6-1ed5-44f0-d03d-318ff7da97d8"
      },
      "execution_count": null,
      "outputs": [
        {
          "output_type": "stream",
          "name": "stdout",
          "text": [
            "count    87300.000000\n",
            "mean       106.366698\n",
            "std         55.023163\n",
            "min         -6.380000\n",
            "25%         72.000000\n",
            "50%         98.100000\n",
            "75%        134.000000\n",
            "max       5400.000000\n",
            "Name: adr, dtype: float64\n"
          ]
        }
      ]
    },
    {
      "cell_type": "markdown",
      "source": [
        "check if we got it correctly using `assert`"
      ],
      "metadata": {
        "id": "cWgszUAbp2M0"
      }
    },
    {
      "cell_type": "code",
      "source": [
        "\n",
        "assert(all(adr_summary.index == pd.Index(['count', 'mean', 'std', 'min', '25%', '50%', '75%', 'max'])))\n",
        "assert(adr_summary.shape == (8,))"
      ],
      "metadata": {
        "id": "G2rs1dhqpHo5"
      },
      "execution_count": null,
      "outputs": []
    },
    {
      "cell_type": "markdown",
      "source": [
        "Looking at the numbers, this wouldn't depict the outliers properly. What I can do here is to show a plot instead."
      ],
      "metadata": {
        "id": "r3Rv_1CFobP4"
      }
    },
    {
      "cell_type": "code",
      "source": [
        "\n",
        "\n",
        "fig, ax = plt.subplots(figsize=(10,6))\n",
        "ax = df['adr'].plot(kind='hist', bins=30)\n",
        "\n",
        "ax.set_title('Histogram of Hotel Guest ADR')\n",
        "ax.set_yscale('log')"
      ],
      "metadata": {
        "id": "28uoBNoWh2Rl",
        "colab": {
          "base_uri": "https://localhost:8080/",
          "height": 545
        },
        "outputId": "385afcd6-1fb6-444d-bbbe-818c7bb544c5"
      },
      "execution_count": null,
      "outputs": [
        {
          "output_type": "display_data",
          "data": {
            "text/plain": [
              "<Figure size 1000x600 with 1 Axes>"
            ],
            "image/png": "[encoded data removed]"
          },
          "metadata": {}
        }
      ]
    },
    {
      "cell_type": "markdown",
      "source": [
        "Looking into the results, i can see that there's a lone data point in the 5000 range, and it wouldn't make sense to have an `adr` that high, so we check on the raw data by sorting the values in `adr`\n",
        "\n"
      ],
      "metadata": {
        "id": "_W8GkUFl0Q94"
      }
    },
    {
      "cell_type": "code",
      "source": [
        "\n",
        "df['adr'].sort_values(ascending=False)"
      ],
      "metadata": {
        "id": "ISLoNqHA0mzc",
        "colab": {
          "base_uri": "https://localhost:8080/"
        },
        "outputId": "294d15c0-35ec-4b17-e8b5-e6cd4bf6f1f7"
      },
      "execution_count": null,
      "outputs": [
        {
          "output_type": "execute_result",
          "data": {
            "text/plain": [
              "48515     5400.00\n",
              "111403     510.00\n",
              "15083      508.00\n",
              "103912     451.50\n",
              "13142      450.00\n",
              "           ...   \n",
              "74720        0.00\n",
              "74721        0.00\n",
              "1230         0.00\n",
              "0            0.00\n",
              "14969       -6.38\n",
              "Name: adr, Length: 87300, dtype: float64"
            ]
          },
          "metadata": {},
          "execution_count": 31
        }
      ]
    },
    {
      "cell_type": "markdown",
      "source": [
        "i can observe that there's one data that is very high compared to the rest. Another thing is that  lowest value is a negative number, so i remove it as well in our dataset.\n",
        "\n",
        "Remove the rows that contains an `adr` of `5400` and `-6.38`"
      ],
      "metadata": {
        "id": "qVMKlI0I0tYU"
      }
    },
    {
      "cell_type": "code",
      "source": [
        "\n",
        "df = df[(df['adr'] != 5400) & (df['adr'] != -6.38)]\n"
      ],
      "metadata": {
        "id": "uXXXgE_f0sD1"
      },
      "execution_count": null,
      "outputs": []
    },
    {
      "cell_type": "code",
      "source": [
        "\n",
        "df['adr'].sort_values(ascending=False)"
      ],
      "metadata": {
        "id": "GtLg33MO15gW",
        "colab": {
          "base_uri": "https://localhost:8080/"
        },
        "outputId": "06cd7bc0-19e9-4333-aa5c-4b8ebf54dd41"
      },
      "execution_count": null,
      "outputs": [
        {
          "output_type": "execute_result",
          "data": {
            "text/plain": [
              "111403    510.0\n",
              "15083     508.0\n",
              "103912    451.5\n",
              "13142     450.0\n",
              "13391     437.0\n",
              "          ...  \n",
              "32633       0.0\n",
              "97751       0.0\n",
              "83900       0.0\n",
              "97752       0.0\n",
              "0           0.0\n",
              "Name: adr, Length: 87298, dtype: float64"
            ]
          },
          "metadata": {},
          "execution_count": 33
        }
      ]
    },
    {
      "cell_type": "markdown",
      "source": [
        "To verify the progress, i would be running some `assert` statements."
      ],
      "metadata": {
        "id": "uexCxU8R3n5r"
      }
    },
    {
      "cell_type": "code",
      "source": [
        "\n",
        "assert(df[df['adr'].isin([5400, -6.38])].shape == (0,22))\n",
        "assert(df['adr'].min() == 0)\n",
        "assert(df['adr'].max() == 510)"
      ],
      "metadata": {
        "id": "4vjzdQBa2cLn"
      },
      "execution_count": null,
      "outputs": []
    },
    {
      "cell_type": "markdown",
      "source": [
        "## Data Analysis and Insights"
      ],
      "metadata": {
        "id": "-u37L-y_2QQS"
      }
    },
    {
      "cell_type": "markdown",
      "source": [
        "### Task 8: Show the amount lost from cancelled bookings\n",
        "\n"
      ],
      "metadata": {
        "id": "_Pdg1aV6sx50"
      }
    },
    {
      "cell_type": "code",
      "source": [
        "\n",
        "amount_plotdata = df[df['status'] != 'No-Show']"
      ],
      "metadata": {
        "id": "PJYOyieCvO9p"
      },
      "execution_count": null,
      "outputs": []
    },
    {
      "cell_type": "markdown",
      "source": [
        "Next, create a seaborn barplot that uses the data `amount_plotdata`, `x` with `'status'`, `y` with `'adr'`, and `hue` with `'deposit_type'`.\n",
        "\n",
        "Label the chart title `Average Daily Rate of Hotel Bookings`, the x label with `Booking Status`, y label with `Average Daily Rate`, and the legend title with `Deposit Type`."
      ],
      "metadata": {
        "id": "kGcsE2xf3QAl"
      }
    },
    {
      "cell_type": "code",
      "source": [
        "\n",
        "\n",
        "fig, ax = plt.subplots(figsize=(10,5))\n",
        "sns.barplot(data=amount_plotdata, x='status', y='adr',\n",
        "             hue='deposit_type',ax=ax)\n",
        "\n",
        "ax.set_title('Average Daily Rate of Hotel Bookings')\n",
        "ax.set_xlabel('Booking Status')\n",
        "ax.set_ylabel('Average Daily Rate')\n",
        "ax.legend(title='Deposit Type')"
      ],
      "metadata": {
        "id": "MLBz28GEvz6M",
        "colab": {
          "base_uri": "https://localhost:8080/",
          "height": 504
        },
        "outputId": "278d670c-04a1-417d-e64b-4b462ddf94c5"
      },
      "execution_count": null,
      "outputs": [
        {
          "output_type": "execute_result",
          "data": {
            "text/plain": [
              "<matplotlib.legend.Legend at 0x7fddd65db970>"
            ]
          },
          "metadata": {},
          "execution_count": 36
        },
        {
          "output_type": "display_data",
          "data": {
            "text/plain": [
              "<Figure size 1000x500 with 1 Axes>"
            ],
            "image/png": "[encoded data removed]"
          },
          "metadata": {}
        }
      ]
    },
    {
      "cell_type": "markdown",
      "source": [
        "Lastly, I'll show the summary statistics using the column `adr` grouped by `status` and `deposit_type`."
      ],
      "metadata": {
        "id": "qH3JrTIJ3xb9"
      }
    },
    {
      "cell_type": "code",
      "source": [
        "\n",
        "amount_plotdata.groupby(['status','deposit_type'])['adr'].describe()"
      ],
      "metadata": {
        "id": "5fVCPA84wuIh",
        "colab": {
          "base_uri": "https://localhost:8080/",
          "height": 269
        },
        "outputId": "fb6b2869-4656-4a24-91a6-8b88d381aa0e"
      },
      "execution_count": null,
      "outputs": [
        {
          "output_type": "execute_result",
          "data": {
            "text/plain": [
              "                          count        mean        std   min   25%     50%  \\\n",
              "status    deposit_type                                                       \n",
              "Canceled  No Deposit    21970.0  119.770062  52.301414   0.0  85.0  112.50   \n",
              "          Non Refund      973.0   87.634111  33.255428   6.0  62.0   85.00   \n",
              "          Refundable       25.0  115.838000  60.326292   8.0  76.0  108.36   \n",
              "Check-Out No Deposit    63183.0  102.088206  51.415440   0.0  68.0   94.80   \n",
              "          Non Refund       55.0   80.687818  38.075381   6.0  54.5   75.00   \n",
              "          Refundable       81.0   69.239259  12.794604  34.0  66.0   66.00   \n",
              "\n",
              "                           75%    max  \n",
              "status    deposit_type                 \n",
              "Canceled  No Deposit    147.00  450.0  \n",
              "          Non Refund    106.00  330.0  \n",
              "          Refundable    158.33  230.0  \n",
              "Check-Out No Deposit    129.49  510.0  \n",
              "          Non Refund    106.00  245.0  \n",
              "          Refundable     72.00  128.0  "
            ],
            "text/html": [
              "\n",
              "  <div id=\"df-1a499c8e-b240-40f0-bd42-56e3bd84bbf7\">\n",
              "    <div class=\"colab-df-container\">\n",
              "      <div>\n",
              "<style scoped>\n",
              "    .dataframe tbody tr th:only-of-type {\n",
              "        vertical-align: middle;\n",
              "    }\n",
              "\n",
              "    .dataframe tbody tr th {\n",
              "        vertical-align: top;\n",
              "    }\n",
              "\n",
              "    .dataframe thead th {\n",
              "        text-align: right;\n",
              "    }\n",
              "</style>\n",
              "<table border=\"1\" class=\"dataframe\">\n",
              "  <thead>\n",
              "    <tr style=\"text-align: right;\">\n",
              "      <th></th>\n",
              "      <th></th>\n",
              "      <th>count</th>\n",
              "      <th>mean</th>\n",
              "      <th>std</th>\n",
              "      <th>min</th>\n",
              "      <th>25%</th>\n",
              "      <th>50%</th>\n",
              "      <th>75%</th>\n",
              "      <th>max</th>\n",
              "    </tr>\n",
              "    <tr>\n",
              "      <th>status</th>\n",
              "      <th>deposit_type</th>\n",
              "      <th></th>\n",
              "      <th></th>\n",
              "      <th></th>\n",
              "      <th></th>\n",
              "      <th></th>\n",
              "      <th></th>\n",
              "      <th></th>\n",
              "      <th></th>\n",
              "    </tr>\n",
              "  </thead>\n",
              "  <tbody>\n",
              "    <tr>\n",
              "      <th rowspan=\"3\" valign=\"top\">Canceled</th>\n",
              "      <th>No Deposit</th>\n",
              "      <td>21970.0</td>\n",
              "      <td>119.770062</td>\n",
              "      <td>52.301414</td>\n",
              "      <td>0.0</td>\n",
              "      <td>85.0</td>\n",
              "      <td>112.50</td>\n",
              "      <td>147.00</td>\n",
              "      <td>450.0</td>\n",
              "    </tr>\n",
              "    <tr>\n",
              "      <th>Non Refund</th>\n",
              "      <td>973.0</td>\n",
              "      <td>87.634111</td>\n",
              "      <td>33.255428</td>\n",
              "      <td>6.0</td>\n",
              "      <td>62.0</td>\n",
              "      <td>85.00</td>\n",
              "      <td>106.00</td>\n",
              "      <td>330.0</td>\n",
              "    </tr>\n",
              "    <tr>\n",
              "      <th>Refundable</th>\n",
              "      <td>25.0</td>\n",
              "      <td>115.838000</td>\n",
              "      <td>60.326292</td>\n",
              "      <td>8.0</td>\n",
              "      <td>76.0</td>\n",
              "      <td>108.36</td>\n",
              "      <td>158.33</td>\n",
              "      <td>230.0</td>\n",
              "    </tr>\n",
              "    <tr>\n",
              "      <th rowspan=\"3\" valign=\"top\">Check-Out</th>\n",
              "      <th>No Deposit</th>\n",
              "      <td>63183.0</td>\n",
              "      <td>102.088206</td>\n",
              "      <td>51.415440</td>\n",
              "      <td>0.0</td>\n",
              "      <td>68.0</td>\n",
              "      <td>94.80</td>\n",
              "      <td>129.49</td>\n",
              "      <td>510.0</td>\n",
              "    </tr>\n",
              "    <tr>\n",
              "      <th>Non Refund</th>\n",
              "      <td>55.0</td>\n",
              "      <td>80.687818</td>\n",
              "      <td>38.075381</td>\n",
              "      <td>6.0</td>\n",
              "      <td>54.5</td>\n",
              "      <td>75.00</td>\n",
              "      <td>106.00</td>\n",
              "      <td>245.0</td>\n",
              "    </tr>\n",
              "    <tr>\n",
              "      <th>Refundable</th>\n",
              "      <td>81.0</td>\n",
              "      <td>69.239259</td>\n",
              "      <td>12.794604</td>\n",
              "      <td>34.0</td>\n",
              "      <td>66.0</td>\n",
              "      <td>66.00</td>\n",
              "      <td>72.00</td>\n",
              "      <td>128.0</td>\n",
              "    </tr>\n",
              "  </tbody>\n",
              "</table>\n",
              "</div>\n",
              "      <button class=\"colab-df-convert\" onclick=\"convertToInteractive('df-1a499c8e-b240-40f0-bd42-56e3bd84bbf7')\"\n",
              "              title=\"Convert this dataframe to an interactive table.\"\n",
              "              style=\"display:none;\">\n",
              "        \n",
              "  <svg xmlns=\"http://www.w3.org/2000/svg\" height=\"24px\"viewBox=\"0 0 24 24\"\n",
              "       width=\"24px\">\n",
              "    <path d=\"M0 0h24v24H0V0z\" fill=\"none\"/>\n",
              "    <path d=\"M18.56 5.44l.94 2.06.94-2.06 2.06-.94-2.06-.94-.94-2.06-.94 2.06-2.06.94zm-11 1L8.5 8.5l.94-2.06 2.06-.94-2.06-.94L8.5 2.5l-.94 2.06-2.06.94zm10 10l.94 2.06.94-2.06 2.06-.94-2.06-.94-.94-2.06-.94 2.06-2.06.94z\"/><path d=\"M17.41 7.96l-1.37-1.37c-.4-.4-.92-.59-1.43-.59-.52 0-1.04.2-1.43.59L10.3 9.45l-7.72 7.72c-.78.78-.78 2.05 0 2.83L4 21.41c.39.39.9.59 1.41.59.51 0 1.02-.2 1.41-.59l7.78-7.78 2.81-2.81c.8-.78.8-2.07 0-2.86zM5.41 20L4 18.59l7.72-7.72 1.47 1.35L5.41 20z\"/>\n",
              "  </svg>\n",
              "      </button>\n",
              "      \n",
              "  <style>\n",
              "    .colab-df-container {\n",
              "      display:flex;\n",
              "      flex-wrap:wrap;\n",
              "      gap: 12px;\n",
              "    }\n",
              "\n",
              "    .colab-df-convert {\n",
              "      background-color: #E8F0FE;\n",
              "      border: none;\n",
              "      border-radius: 50%;\n",
              "      cursor: pointer;\n",
              "      display: none;\n",
              "      fill: #1967D2;\n",
              "      height: 32px;\n",
              "      padding: 0 0 0 0;\n",
              "      width: 32px;\n",
              "    }\n",
              "\n",
              "    .colab-df-convert:hover {\n",
              "      background-color: #E2EBFA;\n",
              "      box-shadow: 0px 1px 2px rgba(60, 64, 67, 0.3), 0px 1px 3px 1px rgba(60, 64, 67, 0.15);\n",
              "      fill: #174EA6;\n",
              "    }\n",
              "\n",
              "    [theme=dark] .colab-df-convert {\n",
              "      background-color: #3B4455;\n",
              "      fill: #D2E3FC;\n",
              "    }\n",
              "\n",
              "    [theme=dark] .colab-df-convert:hover {\n",
              "      background-color: #434B5C;\n",
              "      box-shadow: 0px 1px 3px 1px rgba(0, 0, 0, 0.15);\n",
              "      filter: drop-shadow(0px 1px 2px rgba(0, 0, 0, 0.3));\n",
              "      fill: #FFFFFF;\n",
              "    }\n",
              "  </style>\n",
              "\n",
              "      <script>\n",
              "        const buttonEl =\n",
              "          document.querySelector('#df-1a499c8e-b240-40f0-bd42-56e3bd84bbf7 button.colab-df-convert');\n",
              "        buttonEl.style.display =\n",
              "          google.colab.kernel.accessAllowed ? 'block' : 'none';\n",
              "\n",
              "        async function convertToInteractive(key) {\n",
              "          const element = document.querySelector('#df-1a499c8e-b240-40f0-bd42-56e3bd84bbf7');\n",
              "          const dataTable =\n",
              "            await google.colab.kernel.invokeFunction('convertToInteractive',\n",
              "                                                     [key], {});\n",
              "          if (!dataTable) return;\n",
              "\n",
              "          const docLinkHtml = 'Like what you see? Visit the ' +\n",
              "            '<a target=\"_blank\" href=https://colab.research.google.com/notebooks/data_table.ipynb>data table notebook</a>'\n",
              "            + ' to learn more about interactive tables.';\n",
              "          element.innerHTML = '';\n",
              "          dataTable['output_type'] = 'display_data';\n",
              "          await google.colab.output.renderOutput(dataTable, element);\n",
              "          const docLink = document.createElement('div');\n",
              "          docLink.innerHTML = docLinkHtml;\n",
              "          element.appendChild(docLink);\n",
              "        }\n",
              "      </script>\n",
              "    </div>\n",
              "  </div>\n",
              "  "
            ]
          },
          "metadata": {},
          "execution_count": 37
        }
      ]
    },
    {
      "cell_type": "markdown",
      "source": [
        "### Task 9: Use `.groupby()` method to tally the cancellations and compute the cancellation rates per day"
      ],
      "metadata": {
        "id": "DUneDojFKZ0q"
      }
    },
    {
      "cell_type": "markdown",
      "source": [
        "**Create three new columns named `arrival_day`, `arrival_month`, and `arrival_year` that uses `arrival_date` which gets the day, month, and year respectively.**"
      ],
      "metadata": {
        "id": "02dLFUlJ4uYs"
      }
    },
    {
      "cell_type": "code",
      "source": [
        "\n",
        "df['arrival_year'] = df['arrival_date'].dt.year\n",
        "df['arrival_month'] = df['arrival_date'].dt.month\n",
        "df['arrival_day'] = df['arrival_date'].dt.day"
      ],
      "metadata": {
        "id": "4FXBnGenM7-3"
      },
      "execution_count": null,
      "outputs": []
    },
    {
      "cell_type": "markdown",
      "source": [
        "**Next, i create a new column named `is_canceled` that contains boolean values whether the column `status` has the value `Canceled` or not.**"
      ],
      "metadata": {
        "id": "ffC4pib35UDg"
      }
    },
    {
      "cell_type": "code",
      "source": [
        "df['status'].unique()"
      ],
      "metadata": {
        "colab": {
          "base_uri": "https://localhost:8080/"
        },
        "id": "UATh3iOKmrDC",
        "outputId": "6e03b7cb-fe54-4ae4-bc67-520b2a0e7571"
      },
      "execution_count": null,
      "outputs": [
        {
          "output_type": "execute_result",
          "data": {
            "text/plain": [
              "array(['Check-Out', 'Canceled', 'No-Show'], dtype=object)"
            ]
          },
          "metadata": {},
          "execution_count": 39
        }
      ]
    },
    {
      "cell_type": "code",
      "source": [
        "\n",
        "df['is_canceled'] = df['status'] == 'Canceled'"
      ],
      "metadata": {
        "id": "ZvN1oI7ONc6A"
      },
      "execution_count": null,
      "outputs": []
    },
    {
      "cell_type": "markdown",
      "source": [
        "**i then use `.groupby()` method to group the given arrival columns and find the `sum` and `count` of cancelled bookings and store the results to a variable named `canceled_data`**"
      ],
      "metadata": {
        "id": "EdPysaRx5h-9"
      }
    },
    {
      "cell_type": "code",
      "source": [
        "\n",
        "grouping_cols = ['arrival_year','arrival_month','arrival_day']\n",
        "canceled_data = df.groupby(grouping_cols)['is_canceled'].agg(['sum','count']).reset_index()\n",
        "\n"
      ],
      "metadata": {
        "id": "yws0mu5MM1Ni"
      },
      "execution_count": null,
      "outputs": []
    },
    {
      "cell_type": "markdown",
      "source": [
        "i then create a new column named `cancel_rate` that is computed by dividing the columns `sum` and `count` from the dataframe `canceled_data`\n",
        "\n",
        "```\n",
        "cancel_rate = column_of_sum / column_of_count\n",
        "```"
      ],
      "metadata": {
        "id": "iQGyE1nk5upM"
      }
    },
    {
      "cell_type": "code",
      "source": [
        "\n",
        "df['cancel_rate'] = canceled_data['sum'] / canceled_data['count']"
      ],
      "metadata": {
        "id": "TRikh0_ONav4"
      },
      "execution_count": null,
      "outputs": []
    },
    {
      "cell_type": "code",
      "source": [
        "\n",
        "canceled_data.head()"
      ],
      "metadata": {
        "id": "2WJEMe-LOE49",
        "colab": {
          "base_uri": "https://localhost:8080/",
          "height": 206
        },
        "outputId": "7e1215d4-b4b8-46ed-8076-52f58c9d3c61"
      },
      "execution_count": null,
      "outputs": [
        {
          "output_type": "execute_result",
          "data": {
            "text/plain": [
              "   arrival_year  arrival_month  arrival_day  sum  count\n",
              "0          2015              7            1   11     53\n",
              "1          2015              7            2   18     54\n",
              "2          2015              7            3   19     51\n",
              "3          2015              7            4   18     60\n",
              "4          2015              7            5   14     51"
            ],
            "text/html": [
              "\n",
              "  <div id=\"df-b07dd676-789b-4a26-b4a7-506abad494bb\">\n",
              "    <div class=\"colab-df-container\">\n",
              "      <div>\n",
              "<style scoped>\n",
              "    .dataframe tbody tr th:only-of-type {\n",
              "        vertical-align: middle;\n",
              "    }\n",
              "\n",
              "    .dataframe tbody tr th {\n",
              "        vertical-align: top;\n",
              "    }\n",
              "\n",
              "    .dataframe thead th {\n",
              "        text-align: right;\n",
              "    }\n",
              "</style>\n",
              "<table border=\"1\" class=\"dataframe\">\n",
              "  <thead>\n",
              "    <tr style=\"text-align: right;\">\n",
              "      <th></th>\n",
              "      <th>arrival_year</th>\n",
              "      <th>arrival_month</th>\n",
              "      <th>arrival_day</th>\n",
              "      <th>sum</th>\n",
              "      <th>count</th>\n",
              "    </tr>\n",
              "  </thead>\n",
              "  <tbody>\n",
              "    <tr>\n",
              "      <th>0</th>\n",
              "      <td>2015</td>\n",
              "      <td>7</td>\n",
              "      <td>1</td>\n",
              "      <td>11</td>\n",
              "      <td>53</td>\n",
              "    </tr>\n",
              "    <tr>\n",
              "      <th>1</th>\n",
              "      <td>2015</td>\n",
              "      <td>7</td>\n",
              "      <td>2</td>\n",
              "      <td>18</td>\n",
              "      <td>54</td>\n",
              "    </tr>\n",
              "    <tr>\n",
              "      <th>2</th>\n",
              "      <td>2015</td>\n",
              "      <td>7</td>\n",
              "      <td>3</td>\n",
              "      <td>19</td>\n",
              "      <td>51</td>\n",
              "    </tr>\n",
              "    <tr>\n",
              "      <th>3</th>\n",
              "      <td>2015</td>\n",
              "      <td>7</td>\n",
              "      <td>4</td>\n",
              "      <td>18</td>\n",
              "      <td>60</td>\n",
              "    </tr>\n",
              "    <tr>\n",
              "      <th>4</th>\n",
              "      <td>2015</td>\n",
              "      <td>7</td>\n",
              "      <td>5</td>\n",
              "      <td>14</td>\n",
              "      <td>51</td>\n",
              "    </tr>\n",
              "  </tbody>\n",
              "</table>\n",
              "</div>\n",
              "      <button class=\"colab-df-convert\" onclick=\"convertToInteractive('df-b07dd676-789b-4a26-b4a7-506abad494bb')\"\n",
              "              title=\"Convert this dataframe to an interactive table.\"\n",
              "              style=\"display:none;\">\n",
              "        \n",
              "  <svg xmlns=\"http://www.w3.org/2000/svg\" height=\"24px\"viewBox=\"0 0 24 24\"\n",
              "       width=\"24px\">\n",
              "    <path d=\"M0 0h24v24H0V0z\" fill=\"none\"/>\n",
              "    <path d=\"M18.56 5.44l.94 2.06.94-2.06 2.06-.94-2.06-.94-.94-2.06-.94 2.06-2.06.94zm-11 1L8.5 8.5l.94-2.06 2.06-.94-2.06-.94L8.5 2.5l-.94 2.06-2.06.94zm10 10l.94 2.06.94-2.06 2.06-.94-2.06-.94-.94-2.06-.94 2.06-2.06.94z\"/><path d=\"M17.41 7.96l-1.37-1.37c-.4-.4-.92-.59-1.43-.59-.52 0-1.04.2-1.43.59L10.3 9.45l-7.72 7.72c-.78.78-.78 2.05 0 2.83L4 21.41c.39.39.9.59 1.41.59.51 0 1.02-.2 1.41-.59l7.78-7.78 2.81-2.81c.8-.78.8-2.07 0-2.86zM5.41 20L4 18.59l7.72-7.72 1.47 1.35L5.41 20z\"/>\n",
              "  </svg>\n",
              "      </button>\n",
              "      \n",
              "  <style>\n",
              "    .colab-df-container {\n",
              "      display:flex;\n",
              "      flex-wrap:wrap;\n",
              "      gap: 12px;\n",
              "    }\n",
              "\n",
              "    .colab-df-convert {\n",
              "      background-color: #E8F0FE;\n",
              "      border: none;\n",
              "      border-radius: 50%;\n",
              "      cursor: pointer;\n",
              "      display: none;\n",
              "      fill: #1967D2;\n",
              "      height: 32px;\n",
              "      padding: 0 0 0 0;\n",
              "      width: 32px;\n",
              "    }\n",
              "\n",
              "    .colab-df-convert:hover {\n",
              "      background-color: #E2EBFA;\n",
              "      box-shadow: 0px 1px 2px rgba(60, 64, 67, 0.3), 0px 1px 3px 1px rgba(60, 64, 67, 0.15);\n",
              "      fill: #174EA6;\n",
              "    }\n",
              "\n",
              "    [theme=dark] .colab-df-convert {\n",
              "      background-color: #3B4455;\n",
              "      fill: #D2E3FC;\n",
              "    }\n",
              "\n",
              "    [theme=dark] .colab-df-convert:hover {\n",
              "      background-color: #434B5C;\n",
              "      box-shadow: 0px 1px 3px 1px rgba(0, 0, 0, 0.15);\n",
              "      filter: drop-shadow(0px 1px 2px rgba(0, 0, 0, 0.3));\n",
              "      fill: #FFFFFF;\n",
              "    }\n",
              "  </style>\n",
              "\n",
              "      <script>\n",
              "        const buttonEl =\n",
              "          document.querySelector('#df-b07dd676-789b-4a26-b4a7-506abad494bb button.colab-df-convert');\n",
              "        buttonEl.style.display =\n",
              "          google.colab.kernel.accessAllowed ? 'block' : 'none';\n",
              "\n",
              "        async function convertToInteractive(key) {\n",
              "          const element = document.querySelector('#df-b07dd676-789b-4a26-b4a7-506abad494bb');\n",
              "          const dataTable =\n",
              "            await google.colab.kernel.invokeFunction('convertToInteractive',\n",
              "                                                     [key], {});\n",
              "          if (!dataTable) return;\n",
              "\n",
              "          const docLinkHtml = 'Like what you see? Visit the ' +\n",
              "            '<a target=\"_blank\" href=https://colab.research.google.com/notebooks/data_table.ipynb>data table notebook</a>'\n",
              "            + ' to learn more about interactive tables.';\n",
              "          element.innerHTML = '';\n",
              "          dataTable['output_type'] = 'display_data';\n",
              "          await google.colab.output.renderOutput(dataTable, element);\n",
              "          const docLink = document.createElement('div');\n",
              "          docLink.innerHTML = docLinkHtml;\n",
              "          element.appendChild(docLink);\n",
              "        }\n",
              "      </script>\n",
              "    </div>\n",
              "  </div>\n",
              "  "
            ]
          },
          "metadata": {},
          "execution_count": 43
        }
      ]
    },
    {
      "cell_type": "markdown",
      "source": [
        "### Task 10: Show a line plot of hotel booking cancellation rate"
      ],
      "metadata": {
        "id": "Ik0k8j-Jl_yJ"
      }
    },
    {
      "cell_type": "code",
      "source": [
        "\n",
        "\n",
        "fig, ax = plt.subplots(figsize=(10,5))\n",
        "sns.lineplot(data=canceled_data, x='arrival_month', y=df['cancel_rate'],\n",
        "             hue='arrival_year', style='arrival_year',\n",
        "             markersize=10, palette='Dark2', ci=None,\n",
        "             markers=True, dashes=False,\n",
        "             ax=ax)\n",
        "\n",
        "ax.set_xticks(range(1,13))\n",
        "\n",
        "ax.set_title('Line Plot of Hotel Cancellation Rate Per Year')\n",
        "ax.set_xlabel('Month Number')\n",
        "ax.set_ylabel('Cancellation Rate')\n",
        "\n",
        "ax.legend(title='Year')"
      ],
      "metadata": {
        "id": "l5cOetKfahRL",
        "colab": {
          "base_uri": "https://localhost:8080/",
          "height": 591
        },
        "outputId": "ed6289ce-dde2-47e9-bd01-c331149d4995"
      },
      "execution_count": null,
      "outputs": [
        {
          "output_type": "stream",
          "name": "stderr",
          "text": [
            "<ipython-input-44-c9547a4e696e>:2: FutureWarning: \n",
            "\n",
            "The `ci` parameter is deprecated. Use `errorbar=None` for the same effect.\n",
            "\n",
            "  sns.lineplot(data=canceled_data, x='arrival_month', y=df['cancel_rate'],\n"
          ]
        },
        {
          "output_type": "execute_result",
          "data": {
            "text/plain": [
              "<matplotlib.legend.Legend at 0x7fddd661b190>"
            ]
          },
          "metadata": {},
          "execution_count": 44
        },
        {
          "output_type": "display_data",
          "data": {
            "text/plain": [
              "<Figure size 1000x500 with 1 Axes>"
            ],
            "image/png": "[encoded data removed]"
          },
          "metadata": {}
        }
      ]
    },
    {
      "cell_type": "markdown",
      "source": [
        "### Task 11: Use `.groupby()` method to tally the cancellations and compute the cancellation rates per deposit type and returning guest"
      ],
      "metadata": {
        "id": "_rNeHLjzm8fd"
      }
    },
    {
      "cell_type": "markdown",
      "source": [
        "**i then use `.groupby()` method to group the given columns and find the `sum` and `count` of cancelled bookings and store the results to a variable named `pointplot_data`**"
      ],
      "metadata": {
        "id": "3xk_-cw58jf0"
      }
    },
    {
      "cell_type": "code",
      "source": [
        "\n",
        "grouping_cols = ['deposit_type','is_repeated_guest','arrival_date']\n",
        "pointplot_data = df.groupby(grouping_cols)['is_canceled'].agg(['sum','count']).reset_index()"
      ],
      "metadata": {
        "id": "0aPYBW3wV5vP"
      },
      "execution_count": null,
      "outputs": []
    },
    {
      "cell_type": "markdown",
      "source": [
        "i then create a new column named `cancel_rate` that is computed by dividing the columns `sum` and `count` from the dataframe `pointplot_data`\n",
        "\n",
        "```\n",
        "cancel_rate = column_of_sum / column_of_count\n",
        "```"
      ],
      "metadata": {
        "id": "GlMntyio8r_b"
      }
    },
    {
      "cell_type": "code",
      "source": [
        "\n",
        "pointplot_data['cancel_rate'] = pointplot_data['sum'] / pointplot_data['count']\n"
      ],
      "metadata": {
        "id": "WlQMbWBiZpHf"
      },
      "execution_count": null,
      "outputs": []
    },
    {
      "cell_type": "markdown",
      "source": [
        "Then, i convert the column of `is_repeated_guest` to a data type `bool`."
      ],
      "metadata": {
        "id": "B30tNqo28ziR"
      }
    },
    {
      "cell_type": "code",
      "source": [
        "\n",
        "df['is_repeated_guest'] = df['is_repeated_guest'].astype(bool)"
      ],
      "metadata": {
        "id": "xZs4w7e_qf7c"
      },
      "execution_count": null,
      "outputs": []
    },
    {
      "cell_type": "code",
      "source": [
        "\n",
        "pointplot_data.head()"
      ],
      "metadata": {
        "id": "9EeNwMFy9bJk",
        "colab": {
          "base_uri": "https://localhost:8080/",
          "height": 206
        },
        "outputId": "199c6ed4-8e12-495b-f98e-6194b2a78024"
      },
      "execution_count": null,
      "outputs": [
        {
          "output_type": "execute_result",
          "data": {
            "text/plain": [
              "  deposit_type  is_repeated_guest arrival_date  sum  count  cancel_rate\n",
              "0   No Deposit                  0   2015-07-01   11     52     0.211538\n",
              "1   No Deposit                  0   2015-07-02   15     51     0.294118\n",
              "2   No Deposit                  0   2015-07-03   19     51     0.372549\n",
              "3   No Deposit                  0   2015-07-04   17     59     0.288136\n",
              "4   No Deposit                  0   2015-07-05   13     50     0.260000"
            ],
            "text/html": [
              "\n",
              "  <div id=\"df-033a9e46-682c-49ed-82ee-2a1ddaf5d8bf\">\n",
              "    <div class=\"colab-df-container\">\n",
              "      <div>\n",
              "<style scoped>\n",
              "    .dataframe tbody tr th:only-of-type {\n",
              "        vertical-align: middle;\n",
              "    }\n",
              "\n",
              "    .dataframe tbody tr th {\n",
              "        vertical-align: top;\n",
              "    }\n",
              "\n",
              "    .dataframe thead th {\n",
              "        text-align: right;\n",
              "    }\n",
              "</style>\n",
              "<table border=\"1\" class=\"dataframe\">\n",
              "  <thead>\n",
              "    <tr style=\"text-align: right;\">\n",
              "      <th></th>\n",
              "      <th>deposit_type</th>\n",
              "      <th>is_repeated_guest</th>\n",
              "      <th>arrival_date</th>\n",
              "      <th>sum</th>\n",
              "      <th>count</th>\n",
              "      <th>cancel_rate</th>\n",
              "    </tr>\n",
              "  </thead>\n",
              "  <tbody>\n",
              "    <tr>\n",
              "      <th>0</th>\n",
              "      <td>No Deposit</td>\n",
              "      <td>0</td>\n",
              "      <td>2015-07-01</td>\n",
              "      <td>11</td>\n",
              "      <td>52</td>\n",
              "      <td>0.211538</td>\n",
              "    </tr>\n",
              "    <tr>\n",
              "      <th>1</th>\n",
              "      <td>No Deposit</td>\n",
              "      <td>0</td>\n",
              "      <td>2015-07-02</td>\n",
              "      <td>15</td>\n",
              "      <td>51</td>\n",
              "      <td>0.294118</td>\n",
              "    </tr>\n",
              "    <tr>\n",
              "      <th>2</th>\n",
              "      <td>No Deposit</td>\n",
              "      <td>0</td>\n",
              "      <td>2015-07-03</td>\n",
              "      <td>19</td>\n",
              "      <td>51</td>\n",
              "      <td>0.372549</td>\n",
              "    </tr>\n",
              "    <tr>\n",
              "      <th>3</th>\n",
              "      <td>No Deposit</td>\n",
              "      <td>0</td>\n",
              "      <td>2015-07-04</td>\n",
              "      <td>17</td>\n",
              "      <td>59</td>\n",
              "      <td>0.288136</td>\n",
              "    </tr>\n",
              "    <tr>\n",
              "      <th>4</th>\n",
              "      <td>No Deposit</td>\n",
              "      <td>0</td>\n",
              "      <td>2015-07-05</td>\n",
              "      <td>13</td>\n",
              "      <td>50</td>\n",
              "      <td>0.260000</td>\n",
              "    </tr>\n",
              "  </tbody>\n",
              "</table>\n",
              "</div>\n",
              "      <button class=\"colab-df-convert\" onclick=\"convertToInteractive('df-033a9e46-682c-49ed-82ee-2a1ddaf5d8bf')\"\n",
              "              title=\"Convert this dataframe to an interactive table.\"\n",
              "              style=\"display:none;\">\n",
              "        \n",
              "  <svg xmlns=\"http://www.w3.org/2000/svg\" height=\"24px\"viewBox=\"0 0 24 24\"\n",
              "       width=\"24px\">\n",
              "    <path d=\"M0 0h24v24H0V0z\" fill=\"none\"/>\n",
              "    <path d=\"M18.56 5.44l.94 2.06.94-2.06 2.06-.94-2.06-.94-.94-2.06-.94 2.06-2.06.94zm-11 1L8.5 8.5l.94-2.06 2.06-.94-2.06-.94L8.5 2.5l-.94 2.06-2.06.94zm10 10l.94 2.06.94-2.06 2.06-.94-2.06-.94-.94-2.06-.94 2.06-2.06.94z\"/><path d=\"M17.41 7.96l-1.37-1.37c-.4-.4-.92-.59-1.43-.59-.52 0-1.04.2-1.43.59L10.3 9.45l-7.72 7.72c-.78.78-.78 2.05 0 2.83L4 21.41c.39.39.9.59 1.41.59.51 0 1.02-.2 1.41-.59l7.78-7.78 2.81-2.81c.8-.78.8-2.07 0-2.86zM5.41 20L4 18.59l7.72-7.72 1.47 1.35L5.41 20z\"/>\n",
              "  </svg>\n",
              "      </button>\n",
              "      \n",
              "  <style>\n",
              "    .colab-df-container {\n",
              "      display:flex;\n",
              "      flex-wrap:wrap;\n",
              "      gap: 12px;\n",
              "    }\n",
              "\n",
              "    .colab-df-convert {\n",
              "      background-color: #E8F0FE;\n",
              "      border: none;\n",
              "      border-radius: 50%;\n",
              "      cursor: pointer;\n",
              "      display: none;\n",
              "      fill: #1967D2;\n",
              "      height: 32px;\n",
              "      padding: 0 0 0 0;\n",
              "      width: 32px;\n",
              "    }\n",
              "\n",
              "    .colab-df-convert:hover {\n",
              "      background-color: #E2EBFA;\n",
              "      box-shadow: 0px 1px 2px rgba(60, 64, 67, 0.3), 0px 1px 3px 1px rgba(60, 64, 67, 0.15);\n",
              "      fill: #174EA6;\n",
              "    }\n",
              "\n",
              "    [theme=dark] .colab-df-convert {\n",
              "      background-color: #3B4455;\n",
              "      fill: #D2E3FC;\n",
              "    }\n",
              "\n",
              "    [theme=dark] .colab-df-convert:hover {\n",
              "      background-color: #434B5C;\n",
              "      box-shadow: 0px 1px 3px 1px rgba(0, 0, 0, 0.15);\n",
              "      filter: drop-shadow(0px 1px 2px rgba(0, 0, 0, 0.3));\n",
              "      fill: #FFFFFF;\n",
              "    }\n",
              "  </style>\n",
              "\n",
              "      <script>\n",
              "        const buttonEl =\n",
              "          document.querySelector('#df-033a9e46-682c-49ed-82ee-2a1ddaf5d8bf button.colab-df-convert');\n",
              "        buttonEl.style.display =\n",
              "          google.colab.kernel.accessAllowed ? 'block' : 'none';\n",
              "\n",
              "        async function convertToInteractive(key) {\n",
              "          const element = document.querySelector('#df-033a9e46-682c-49ed-82ee-2a1ddaf5d8bf');\n",
              "          const dataTable =\n",
              "            await google.colab.kernel.invokeFunction('convertToInteractive',\n",
              "                                                     [key], {});\n",
              "          if (!dataTable) return;\n",
              "\n",
              "          const docLinkHtml = 'Like what you see? Visit the ' +\n",
              "            '<a target=\"_blank\" href=https://colab.research.google.com/notebooks/data_table.ipynb>data table notebook</a>'\n",
              "            + ' to learn more about interactive tables.';\n",
              "          element.innerHTML = '';\n",
              "          dataTable['output_type'] = 'display_data';\n",
              "          await google.colab.output.renderOutput(dataTable, element);\n",
              "          const docLink = document.createElement('div');\n",
              "          docLink.innerHTML = docLinkHtml;\n",
              "          element.appendChild(docLink);\n",
              "        }\n",
              "      </script>\n",
              "    </div>\n",
              "  </div>\n",
              "  "
            ]
          },
          "metadata": {},
          "execution_count": 48
        }
      ]
    },
    {
      "cell_type": "markdown",
      "source": [
        "### Task 12: Show a Pointplot of Cancellation Rates by Deposit Type"
      ],
      "metadata": {
        "id": "bVI55Dw1X8Rf"
      }
    },
    {
      "cell_type": "code",
      "source": [
        "\n",
        "fig, ax = plt.subplots(figsize=(7,8))\n",
        "sns.pointplot(data=pointplot_data, x='deposit_type', y='cancel_rate',\n",
        "               hue='is_repeated_guest', join=False,\n",
        "               capsize=0.1, ax=ax)\n",
        "\n",
        "ax.set_xlabel('Deposit Type')\n",
        "ax.set_ylabel('Cancellation Rate')\n",
        "ax.set_title('Cancellation Rates by Deposity type and Repeating Guest ')\n",
        "ax.legend(title='Returning Guest')"
      ],
      "metadata": {
        "id": "dI0tnO9rgLG4",
        "colab": {
          "base_uri": "https://localhost:8080/",
          "height": 735
        },
        "outputId": "1f3ad898-faf5-4e73-ccaa-412a535ac558"
      },
      "execution_count": null,
      "outputs": [
        {
          "output_type": "execute_result",
          "data": {
            "text/plain": [
              "<matplotlib.legend.Legend at 0x7fddd661ab90>"
            ]
          },
          "metadata": {},
          "execution_count": 49
        },
        {
          "output_type": "display_data",
          "data": {
            "text/plain": [
              "<Figure size 700x800 with 1 Axes>"
            ],
            "image/png": "[encoded data removed]"
          },
          "metadata": {}
        }
      ]
    },
    {
      "cell_type": "code",
      "source": [
        "import matplotlib.pyplot as plt\n",
        "import seaborn as sns\n",
        "from matplotlib.widgets import Button\n",
        "\n",
        "# Create the subplots for the dashboard\n",
        "fig, axes = plt.subplots(nrows=2, ncols=2, figsize=(20, 18))\n",
        "\n",
        "# Plot 1: Histogram of Hotel Guest ADR\n",
        "ax1 = axes[0, 0]\n",
        "ax1.hist(df['adr'], bins=30)\n",
        "ax1.set_title('Histogram of Hotel Guest ADR')\n",
        "ax1.set_yscale('log')\n",
        "ax1.set_facecolor('#F5EFE7')\n",
        "\n",
        "# Plot 2: Average Daily Rate of Hotel Bookings\n",
        "ax2 = axes[0, 1]\n",
        "sns.barplot(data=amount_plotdata, x='status', y='adr', hue='deposit_type', ax=ax2)\n",
        "ax2.set_title('Average Daily Rate of Hotel Bookings')\n",
        "ax2.set_xlabel('Booking Status')\n",
        "ax2.set_ylabel('Average Daily Rate')\n",
        "ax2.legend(title='Deposit Type')\n",
        "ax2.set_facecolor('#F5EFE7')\n",
        "\n",
        "# Plot 3: Line Plot of Hotel Cancellation Rate Per Year\n",
        "ax3 = axes[1, 0]\n",
        "sns.lineplot(data=canceled_data, x='arrival_month', y=df['cancel_rate'],\n",
        "             hue='arrival_year', style='arrival_year',\n",
        "             markersize=10, palette='Dark2', ci=None,\n",
        "             markers=True, dashes=False,\n",
        "             ax=ax3)\n",
        "ax3.set_xticks(range(1, 13))\n",
        "ax3.set_title('Line Plot of Hotel Cancellation Rate Per Year')\n",
        "ax3.set_xlabel('Month Number')\n",
        "ax3.set_ylabel('Cancellation Rate')\n",
        "ax3.legend(title='Year')\n",
        "ax3.set_facecolor('#F5EFE7')\n",
        "\n",
        "# Plot 4: Cancellation Rates by Deposit Type and Repeating Guest\n",
        "ax4 = axes[1, 1]\n",
        "sns.pointplot(data=pointplot_data, x='deposit_type', y='cancel_rate',\n",
        "              hue='is_repeated_guest', join=False,\n",
        "              capsize=0.1, ax=ax4)\n",
        "ax4.set_xlabel('Deposit Type')\n",
        "ax4.set_ylabel('Cancellation Rate')\n",
        "ax4.set_title('Cancellation Rates by Deposit Type and Repeating Guest')\n",
        "ax4.legend(title='Returning Guest')\n",
        "ax4.set_facecolor('#F5EFE7')\n",
        "\n",
        "# Create the title at the top\n",
        "figtext_kwargs = {'x': 0.5, 'y': 0.95, 's': 'ANALYZING HOTEL BOOKING CANCELLATION', 'fontsize': 25, 'fontweight': 'bold', 'ha': 'center',\n",
        "                  'bbox': {'boxstyle': 'round', 'facecolor': 'white', 'edgecolor': 'black', 'pad': 0.1}}\n",
        "fig.text(**figtext_kwargs)\n",
        "\n",
        "# Add a background color to the entire dashboard\n",
        "fig.patch.set_facecolor('#C2DEDC')\n",
        "\n",
        "# Adjust the layout and spacing of the subplots\n",
        "plt.tight_layout(rect=[0, 0.1, 1, 0.95])\n",
        "\n",
        "# Save the dashboard as a PNG image\n",
        "plt.savefig('dashboard.png')\n",
        "\n",
        "# Display the interactive dashboard\n",
        "plt.show()\n"
      ],
      "metadata": {
        "colab": {
          "base_uri": "https://localhost:8080/",
          "height": 1000
        },
        "id": "Ipn92P3bQT_w",
        "outputId": "b7f788f6-187e-403f-b558-5f0ca465157a"
      },
      "execution_count": null,
      "outputs": [
        {
          "output_type": "stream",
          "name": "stderr",
          "text": [
            "<ipython-input-50-148a64bc437a>:26: FutureWarning: \n",
            "\n",
            "The `ci` parameter is deprecated. Use `errorbar=None` for the same effect.\n",
            "\n",
            "  sns.lineplot(data=canceled_data, x='arrival_month', y=df['cancel_rate'],\n"
          ]
        },
        {
          "output_type": "display_data",
          "data": {
            "text/plain": [
              "<Figure size 2000x1800 with 4 Axes>"
            ],
            "image/png": "[encoded data removed]"
          },
          "metadata": {}
        }
      ]
    },
    {
      "cell_type": "markdown",
      "source": [
        "## Conclusions and Recommendations"
      ],
      "metadata": {
        "id": "FhXng66greVE"
      }
    },
    {
      "cell_type": "markdown",
      "source": [
        "We can conclude that being a repeated guest does not have a significant impact on the likelihood of a booking being canceled.\n",
        "\n",
        "As for the recommendation:\n",
        "\n",
        "The hotel should continue to treat all guests equally regardless of whether they are repeated or non-repeated guests.\n",
        "\n",
        "The hotel should also focus on improving the overall booking experience for all guests, including the ease of cancellation, to reduce the likelihood of cancellations.\n",
        "\n",
        "Additionally, the hotel can consider implementing policies or incentives to encourage guests to rebook with them in the future.\n",
        "\n"
      ],
      "metadata": {
        "id": "vF5WnzyOzAg9"
      }
    },
    {
      "cell_type": "markdown",
      "source": [
        "---\n",
        "\n",
        "**END OF FILE**"
      ],
      "metadata": {
        "id": "9A7GXLBfzFmf"
      }
    }
  ]
}